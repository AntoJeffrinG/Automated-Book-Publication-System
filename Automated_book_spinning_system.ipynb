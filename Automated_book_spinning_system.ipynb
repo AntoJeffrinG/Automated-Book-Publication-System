{
  "cells": [
    {
      "cell_type": "code",
      "execution_count": null,
      "metadata": {
        "colab": {
          "base_uri": "https://localhost:8080/"
        },
        "collapsed": true,
        "id": "zXCUjLNEXrcp",
        "outputId": "195fbcf2-9df5-4b4b-e649-eb368fb7d546"
      },
      "outputs": [
        {
          "name": "stdout",
          "output_type": "stream",
          "text": [
            "Collecting playwright\n",
            "  Downloading playwright-1.53.0-py3-none-manylinux1_x86_64.whl.metadata (3.5 kB)\n",
            "Collecting pyee<14,>=13 (from playwright)\n",
            "  Downloading pyee-13.0.0-py3-none-any.whl.metadata (2.9 kB)\n",
            "Requirement already satisfied: greenlet<4.0.0,>=3.1.1 in /usr/local/lib/python3.11/dist-packages (from playwright) (3.2.3)\n",
            "Requirement already satisfied: typing-extensions in /usr/local/lib/python3.11/dist-packages (from pyee<14,>=13->playwright) (4.14.0)\n",
            "Downloading playwright-1.53.0-py3-none-manylinux1_x86_64.whl (45.8 MB)\n",
            "\u001b[2K   \u001b[90m━━━━━━━━━━━━━━━━━━━━━━━━━━━━━━━━━━━━━━━━\u001b[0m \u001b[32m45.8/45.8 MB\u001b[0m \u001b[31m16.0 MB/s\u001b[0m eta \u001b[36m0:00:00\u001b[0m\n",
            "\u001b[?25hDownloading pyee-13.0.0-py3-none-any.whl (15 kB)\n",
            "Installing collected packages: pyee, playwright\n",
            "Successfully installed playwright-1.53.0 pyee-13.0.0\n"
          ]
        }
      ],
      "source": [
        "!pip install playwright"
      ]
    },
    {
      "cell_type": "code",
      "execution_count": null,
      "metadata": {
        "colab": {
          "base_uri": "https://localhost:8080/"
        },
        "collapsed": true,
        "id": "YdVBGgKIU5iF",
        "outputId": "fd605496-7478-46b2-da51-c7b39f676c4b"
      },
      "outputs": [
        {
          "name": "stdout",
          "output_type": "stream",
          "text": [
            "Downloading Chromium 138.0.7204.23 (playwright build v1179)\u001b[2m from https://cdn.playwright.dev/dbazure/download/playwright/builds/chromium/1179/chromium-linux.zip\u001b[22m\n",
            "\u001b[1G171.6 MiB [] 0% 0.0s\u001b[0K\u001b[1G171.6 MiB [] 0% 55.4s\u001b[0K\u001b[1G171.6 MiB [] 0% 28.8s\u001b[0K\u001b[1G171.6 MiB [] 0% 18.3s\u001b[0K\u001b[1G171.6 MiB [] 0% 10.2s\u001b[0K\u001b[1G171.6 MiB [] 1% 6.4s\u001b[0K\u001b[1G171.6 MiB [] 2% 4.9s\u001b[0K\u001b[1G171.6 MiB [] 2% 4.2s\u001b[0K\u001b[1G171.6 MiB [] 3% 3.6s\u001b[0K\u001b[1G171.6 MiB [] 4% 3.3s\u001b[0K\u001b[1G171.6 MiB [] 5% 3.1s\u001b[0K\u001b[1G171.6 MiB [] 5% 3.3s\u001b[0K\u001b[1G171.6 MiB [] 5% 3.4s\u001b[0K\u001b[1G171.6 MiB [] 6% 3.5s\u001b[0K\u001b[1G171.6 MiB [] 6% 3.6s\u001b[0K\u001b[1G171.6 MiB [] 7% 3.6s\u001b[0K\u001b[1G171.6 MiB [] 7% 3.7s\u001b[0K\u001b[1G171.6 MiB [] 8% 3.7s\u001b[0K\u001b[1G171.6 MiB [] 8% 3.8s\u001b[0K\u001b[1G171.6 MiB [] 9% 3.8s\u001b[0K\u001b[1G171.6 MiB [] 9% 3.9s\u001b[0K\u001b[1G171.6 MiB [] 9% 4.0s\u001b[0K\u001b[1G171.6 MiB [] 10% 4.0s\u001b[0K\u001b[1G171.6 MiB [] 10% 4.1s\u001b[0K\u001b[1G171.6 MiB [] 11% 4.1s\u001b[0K\u001b[1G171.6 MiB [] 11% 4.2s\u001b[0K\u001b[1G171.6 MiB [] 12% 4.3s\u001b[0K\u001b[1G171.6 MiB [] 13% 4.1s\u001b[0K\u001b[1G171.6 MiB [] 13% 4.0s\u001b[0K\u001b[1G171.6 MiB [] 14% 3.9s\u001b[0K\u001b[1G171.6 MiB [] 14% 3.8s\u001b[0K\u001b[1G171.6 MiB [] 15% 3.7s\u001b[0K\u001b[1G171.6 MiB [] 15% 3.6s\u001b[0K\u001b[1G171.6 MiB [] 16% 3.6s\u001b[0K\u001b[1G171.6 MiB [] 16% 3.7s\u001b[0K\u001b[1G171.6 MiB [] 16% 3.8s\u001b[0K\u001b[1G171.6 MiB [] 17% 3.6s\u001b[0K\u001b[1G171.6 MiB [] 18% 3.6s\u001b[0K\u001b[1G171.6 MiB [] 18% 3.5s\u001b[0K\u001b[1G171.6 MiB [] 19% 3.4s\u001b[0K\u001b[1G171.6 MiB [] 20% 3.4s\u001b[0K\u001b[1G171.6 MiB [] 21% 3.4s\u001b[0K\u001b[1G171.6 MiB [] 21% 3.5s\u001b[0K\u001b[1G171.6 MiB [] 22% 3.5s\u001b[0K\u001b[1G171.6 MiB [] 23% 3.4s\u001b[0K\u001b[1G171.6 MiB [] 24% 3.3s\u001b[0K\u001b[1G171.6 MiB [] 25% 3.1s\u001b[0K\u001b[1G171.6 MiB [] 26% 3.0s\u001b[0K\u001b[1G171.6 MiB [] 26% 2.9s\u001b[0K\u001b[1G171.6 MiB [] 27% 2.9s\u001b[0K\u001b[1G171.6 MiB [] 28% 2.8s\u001b[0K\u001b[1G171.6 MiB [] 29% 2.7s\u001b[0K\u001b[1G171.6 MiB [] 30% 2.6s\u001b[0K\u001b[1G171.6 MiB [] 31% 2.6s\u001b[0K\u001b[1G171.6 MiB [] 32% 2.5s\u001b[0K\u001b[1G171.6 MiB [] 33% 2.5s\u001b[0K\u001b[1G171.6 MiB [] 34% 2.5s\u001b[0K\u001b[1G171.6 MiB [] 35% 2.5s\u001b[0K\u001b[1G171.6 MiB [] 36% 2.5s\u001b[0K\u001b[1G171.6 MiB [] 37% 2.5s\u001b[0K\u001b[1G171.6 MiB [] 38% 2.5s\u001b[0K\u001b[1G171.6 MiB [] 38% 2.4s\u001b[0K\u001b[1G171.6 MiB [] 39% 2.4s\u001b[0K\u001b[1G171.6 MiB [] 40% 2.4s\u001b[0K\u001b[1G171.6 MiB [] 41% 2.3s\u001b[0K\u001b[1G171.6 MiB [] 41% 2.2s\u001b[0K\u001b[1G171.6 MiB [] 42% 2.2s\u001b[0K\u001b[1G171.6 MiB [] 43% 2.1s\u001b[0K\u001b[1G171.6 MiB [] 44% 2.1s\u001b[0K\u001b[1G171.6 MiB [] 45% 2.0s\u001b[0K\u001b[1G171.6 MiB [] 46% 2.0s\u001b[0K\u001b[1G171.6 MiB [] 47% 2.0s\u001b[0K\u001b[1G171.6 MiB [] 48% 2.0s\u001b[0K\u001b[1G171.6 MiB [] 48% 1.9s\u001b[0K\u001b[1G171.6 MiB [] 49% 1.9s\u001b[0K\u001b[1G171.6 MiB [] 50% 1.9s\u001b[0K\u001b[1G171.6 MiB [] 51% 1.9s\u001b[0K\u001b[1G171.6 MiB [] 52% 1.8s\u001b[0K\u001b[1G171.6 MiB [] 53% 1.7s\u001b[0K\u001b[1G171.6 MiB [] 53% 1.8s\u001b[0K\u001b[1G171.6 MiB [] 54% 1.8s\u001b[0K\u001b[1G171.6 MiB [] 55% 1.7s\u001b[0K\u001b[1G171.6 MiB [] 56% 1.7s\u001b[0K\u001b[1G171.6 MiB [] 56% 1.6s\u001b[0K\u001b[1G171.6 MiB [] 57% 1.6s\u001b[0K\u001b[1G171.6 MiB [] 58% 1.5s\u001b[0K\u001b[1G171.6 MiB [] 59% 1.5s\u001b[0K\u001b[1G171.6 MiB [] 60% 1.5s\u001b[0K\u001b[1G171.6 MiB [] 61% 1.4s\u001b[0K\u001b[1G171.6 MiB [] 62% 1.4s\u001b[0K\u001b[1G171.6 MiB [] 63% 1.3s\u001b[0K\u001b[1G171.6 MiB [] 64% 1.3s\u001b[0K\u001b[1G171.6 MiB [] 65% 1.3s\u001b[0K\u001b[1G171.6 MiB [] 65% 1.2s\u001b[0K\u001b[1G171.6 MiB [] 66% 1.2s\u001b[0K\u001b[1G171.6 MiB [] 67% 1.2s\u001b[0K\u001b[1G171.6 MiB [] 68% 1.2s\u001b[0K\u001b[1G171.6 MiB [] 68% 1.1s\u001b[0K\u001b[1G171.6 MiB [] 69% 1.1s\u001b[0K\u001b[1G171.6 MiB [] 70% 1.1s\u001b[0K\u001b[1G171.6 MiB [] 71% 1.1s\u001b[0K\u001b[1G171.6 MiB [] 71% 1.0s\u001b[0K\u001b[1G171.6 MiB [] 72% 1.0s\u001b[0K\u001b[1G171.6 MiB [] 73% 1.0s\u001b[0K\u001b[1G171.6 MiB [] 74% 0.9s\u001b[0K\u001b[1G171.6 MiB [] 75% 0.9s\u001b[0K\u001b[1G171.6 MiB [] 76% 0.9s\u001b[0K\u001b[1G171.6 MiB [] 77% 0.8s\u001b[0K\u001b[1G171.6 MiB [] 78% 0.8s\u001b[0K\u001b[1G171.6 MiB [] 79% 0.8s\u001b[0K\u001b[1G171.6 MiB [] 79% 0.7s\u001b[0K\u001b[1G171.6 MiB [] 80% 0.7s\u001b[0K\u001b[1G171.6 MiB [] 81% 0.7s\u001b[0K\u001b[1G171.6 MiB [] 82% 0.6s\u001b[0K\u001b[1G171.6 MiB [] 83% 0.6s\u001b[0K\u001b[1G171.6 MiB [] 84% 0.6s\u001b[0K\u001b[1G171.6 MiB [] 85% 0.5s\u001b[0K\u001b[1G171.6 MiB [] 86% 0.5s\u001b[0K\u001b[1G171.6 MiB [] 87% 0.5s\u001b[0K\u001b[1G171.6 MiB [] 87% 0.4s\u001b[0K\u001b[1G171.6 MiB [] 88% 0.4s\u001b[0K\u001b[1G171.6 MiB [] 89% 0.4s\u001b[0K\u001b[1G171.6 MiB [] 90% 0.4s\u001b[0K\u001b[1G171.6 MiB [] 90% 0.3s\u001b[0K\u001b[1G171.6 MiB [] 91% 0.3s\u001b[0K\u001b[1G171.6 MiB [] 92% 0.3s\u001b[0K\u001b[1G171.6 MiB [] 93% 0.2s\u001b[0K\u001b[1G171.6 MiB [] 94% 0.2s\u001b[0K\u001b[1G171.6 MiB [] 95% 0.2s\u001b[0K\u001b[1G171.6 MiB [] 96% 0.1s\u001b[0K\u001b[1G171.6 MiB [] 97% 0.1s\u001b[0K\u001b[1G171.6 MiB [] 98% 0.1s\u001b[0K\u001b[1G171.6 MiB [] 98% 0.0s\u001b[0K\u001b[1G171.6 MiB [] 99% 0.0s\u001b[0K\u001b[1G171.6 MiB [] 100% 0.0s\u001b[0K\n",
            "Chromium 138.0.7204.23 (playwright build v1179) downloaded to /root/.cache/ms-playwright/chromium-1179\n",
            "Downloading Chromium Headless Shell 138.0.7204.23 (playwright build v1179)\u001b[2m from https://cdn.playwright.dev/dbazure/download/playwright/builds/chromium/1179/chromium-headless-shell-linux.zip\u001b[22m\n",
            "\u001b[1G104.5 MiB [] 0% 0.0s\u001b[0K\u001b[1G104.5 MiB [] 0% 28.9s\u001b[0K\u001b[1G104.5 MiB [] 0% 17.4s\u001b[0K\u001b[1G104.5 MiB [] 0% 10.9s\u001b[0K\u001b[1G104.5 MiB [] 0% 7.6s\u001b[0K\u001b[1G104.5 MiB [] 1% 5.6s\u001b[0K\u001b[1G104.5 MiB [] 2% 4.8s\u001b[0K\u001b[1G104.5 MiB [] 2% 4.2s\u001b[0K\u001b[1G104.5 MiB [] 3% 3.8s\u001b[0K\u001b[1G104.5 MiB [] 3% 3.9s\u001b[0K\u001b[1G104.5 MiB [] 4% 3.4s\u001b[0K\u001b[1G104.5 MiB [] 5% 3.3s\u001b[0K\u001b[1G104.5 MiB [] 5% 3.2s\u001b[0K\u001b[1G104.5 MiB [] 6% 2.9s\u001b[0K\u001b[1G104.5 MiB [] 7% 2.8s\u001b[0K\u001b[1G104.5 MiB [] 8% 2.8s\u001b[0K\u001b[1G104.5 MiB [] 8% 3.1s\u001b[0K\u001b[1G104.5 MiB [] 9% 3.0s\u001b[0K\u001b[1G104.5 MiB [] 10% 3.0s\u001b[0K\u001b[1G104.5 MiB [] 11% 2.8s\u001b[0K\u001b[1G104.5 MiB [] 12% 2.8s\u001b[0K\u001b[1G104.5 MiB [] 13% 2.7s\u001b[0K\u001b[1G104.5 MiB [] 13% 2.6s\u001b[0K\u001b[1G104.5 MiB [] 14% 2.5s\u001b[0K\u001b[1G104.5 MiB [] 15% 2.5s\u001b[0K\u001b[1G104.5 MiB [] 15% 2.6s\u001b[0K\u001b[1G104.5 MiB [] 16% 2.5s\u001b[0K\u001b[1G104.5 MiB [] 17% 2.4s\u001b[0K\u001b[1G104.5 MiB [] 18% 2.4s\u001b[0K\u001b[1G104.5 MiB [] 19% 2.4s\u001b[0K\u001b[1G104.5 MiB [] 19% 2.3s\u001b[0K\u001b[1G104.5 MiB [] 20% 2.2s\u001b[0K\u001b[1G104.5 MiB [] 22% 2.1s\u001b[0K\u001b[1G104.5 MiB [] 23% 2.1s\u001b[0K\u001b[1G104.5 MiB [] 23% 2.0s\u001b[0K\u001b[1G104.5 MiB [] 24% 2.0s\u001b[0K\u001b[1G104.5 MiB [] 25% 1.9s\u001b[0K\u001b[1G104.5 MiB [] 27% 1.9s\u001b[0K\u001b[1G104.5 MiB [] 28% 1.8s\u001b[0K\u001b[1G104.5 MiB [] 29% 1.8s\u001b[0K\u001b[1G104.5 MiB [] 30% 1.7s\u001b[0K\u001b[1G104.5 MiB [] 31% 1.7s\u001b[0K\u001b[1G104.5 MiB [] 32% 1.6s\u001b[0K\u001b[1G104.5 MiB [] 33% 1.6s\u001b[0K\u001b[1G104.5 MiB [] 34% 1.6s\u001b[0K\u001b[1G104.5 MiB [] 35% 1.5s\u001b[0K\u001b[1G104.5 MiB [] 35% 1.6s\u001b[0K\u001b[1G104.5 MiB [] 36% 1.6s\u001b[0K\u001b[1G104.5 MiB [] 37% 1.6s\u001b[0K\u001b[1G104.5 MiB [] 38% 1.5s\u001b[0K\u001b[1G104.5 MiB [] 39% 1.5s\u001b[0K\u001b[1G104.5 MiB [] 40% 1.5s\u001b[0K\u001b[1G104.5 MiB [] 41% 1.4s\u001b[0K\u001b[1G104.5 MiB [] 42% 1.4s\u001b[0K\u001b[1G104.5 MiB [] 44% 1.3s\u001b[0K\u001b[1G104.5 MiB [] 45% 1.3s\u001b[0K\u001b[1G104.5 MiB [] 47% 1.2s\u001b[0K\u001b[1G104.5 MiB [] 48% 1.2s\u001b[0K\u001b[1G104.5 MiB [] 50% 1.1s\u001b[0K\u001b[1G104.5 MiB [] 51% 1.1s\u001b[0K\u001b[1G104.5 MiB [] 52% 1.0s\u001b[0K\u001b[1G104.5 MiB [] 54% 1.0s\u001b[0K\u001b[1G104.5 MiB [] 55% 1.0s\u001b[0K\u001b[1G104.5 MiB [] 57% 0.9s\u001b[0K\u001b[1G104.5 MiB [] 58% 0.9s\u001b[0K\u001b[1G104.5 MiB [] 60% 0.8s\u001b[0K\u001b[1G104.5 MiB [] 61% 0.8s\u001b[0K\u001b[1G104.5 MiB [] 62% 0.8s\u001b[0K\u001b[1G104.5 MiB [] 63% 0.8s\u001b[0K\u001b[1G104.5 MiB [] 65% 0.7s\u001b[0K\u001b[1G104.5 MiB [] 66% 0.7s\u001b[0K\u001b[1G104.5 MiB [] 68% 0.7s\u001b[0K\u001b[1G104.5 MiB [] 69% 0.6s\u001b[0K\u001b[1G104.5 MiB [] 70% 0.6s\u001b[0K\u001b[1G104.5 MiB [] 71% 0.6s\u001b[0K\u001b[1G104.5 MiB [] 72% 0.6s\u001b[0K\u001b[1G104.5 MiB [] 73% 0.5s\u001b[0K\u001b[1G104.5 MiB [] 75% 0.5s\u001b[0K\u001b[1G104.5 MiB [] 76% 0.5s\u001b[0K\u001b[1G104.5 MiB [] 77% 0.4s\u001b[0K\u001b[1G104.5 MiB [] 79% 0.4s\u001b[0K\u001b[1G104.5 MiB [] 80% 0.4s\u001b[0K\u001b[1G104.5 MiB [] 82% 0.3s\u001b[0K\u001b[1G104.5 MiB [] 83% 0.3s\u001b[0K\u001b[1G104.5 MiB [] 84% 0.3s\u001b[0K\u001b[1G104.5 MiB [] 86% 0.3s\u001b[0K\u001b[1G104.5 MiB [] 87% 0.2s\u001b[0K\u001b[1G104.5 MiB [] 88% 0.2s\u001b[0K\u001b[1G104.5 MiB [] 90% 0.2s\u001b[0K\u001b[1G104.5 MiB [] 91% 0.2s\u001b[0K\u001b[1G104.5 MiB [] 92% 0.1s\u001b[0K\u001b[1G104.5 MiB [] 94% 0.1s\u001b[0K\u001b[1G104.5 MiB [] 95% 0.1s\u001b[0K\u001b[1G104.5 MiB [] 96% 0.1s\u001b[0K\u001b[1G104.5 MiB [] 97% 0.0s\u001b[0K\u001b[1G104.5 MiB [] 98% 0.0s\u001b[0K\u001b[1G104.5 MiB [] 100% 0.0s\u001b[0K\n",
            "Chromium Headless Shell 138.0.7204.23 (playwright build v1179) downloaded to /root/.cache/ms-playwright/chromium_headless_shell-1179\n",
            "Downloading Firefox 139.0 (playwright build v1488)\u001b[2m from https://cdn.playwright.dev/dbazure/download/playwright/builds/firefox/1488/firefox-ubuntu-22.04.zip\u001b[22m\n",
            "\u001b[1G92.3 MiB [] 0% 0.0s\u001b[0K\u001b[1G92.3 MiB [] 0% 28.3s\u001b[0K\u001b[1G92.3 MiB [] 0% 16.2s\u001b[0K\u001b[1G92.3 MiB [] 0% 10.0s\u001b[0K\u001b[1G92.3 MiB [] 1% 6.2s\u001b[0K\u001b[1G92.3 MiB [] 2% 4.1s\u001b[0K\u001b[1G92.3 MiB [] 3% 3.2s\u001b[0K\u001b[1G92.3 MiB [] 4% 2.8s\u001b[0K\u001b[1G92.3 MiB [] 5% 2.4s\u001b[0K\u001b[1G92.3 MiB [] 6% 2.0s\u001b[0K\u001b[1G92.3 MiB [] 8% 1.8s\u001b[0K\u001b[1G92.3 MiB [] 9% 1.7s\u001b[0K\u001b[1G92.3 MiB [] 10% 1.8s\u001b[0K\u001b[1G92.3 MiB [] 10% 1.9s\u001b[0K\u001b[1G92.3 MiB [] 10% 2.0s\u001b[0K\u001b[1G92.3 MiB [] 11% 2.0s\u001b[0K\u001b[1G92.3 MiB [] 12% 1.9s\u001b[0K\u001b[1G92.3 MiB [] 13% 1.9s\u001b[0K\u001b[1G92.3 MiB [] 14% 1.9s\u001b[0K\u001b[1G92.3 MiB [] 14% 2.0s\u001b[0K\u001b[1G92.3 MiB [] 15% 2.0s\u001b[0K\u001b[1G92.3 MiB [] 16% 1.9s\u001b[0K\u001b[1G92.3 MiB [] 17% 1.9s\u001b[0K\u001b[1G92.3 MiB [] 19% 1.7s\u001b[0K\u001b[1G92.3 MiB [] 20% 1.7s\u001b[0K\u001b[1G92.3 MiB [] 21% 1.7s\u001b[0K\u001b[1G92.3 MiB [] 22% 1.6s\u001b[0K\u001b[1G92.3 MiB [] 24% 1.5s\u001b[0K\u001b[1G92.3 MiB [] 25% 1.4s\u001b[0K\u001b[1G92.3 MiB [] 27% 1.4s\u001b[0K\u001b[1G92.3 MiB [] 28% 1.3s\u001b[0K\u001b[1G92.3 MiB [] 29% 1.3s\u001b[0K\u001b[1G92.3 MiB [] 31% 1.2s\u001b[0K\u001b[1G92.3 MiB [] 33% 1.1s\u001b[0K\u001b[1G92.3 MiB [] 35% 1.1s\u001b[0K\u001b[1G92.3 MiB [] 37% 1.0s\u001b[0K\u001b[1G92.3 MiB [] 38% 1.0s\u001b[0K\u001b[1G92.3 MiB [] 40% 1.0s\u001b[0K\u001b[1G92.3 MiB [] 41% 1.0s\u001b[0K\u001b[1G92.3 MiB [] 44% 0.9s\u001b[0K\u001b[1G92.3 MiB [] 46% 0.8s\u001b[0K\u001b[1G92.3 MiB [] 48% 0.8s\u001b[0K\u001b[1G92.3 MiB [] 49% 0.8s\u001b[0K\u001b[1G92.3 MiB [] 51% 0.7s\u001b[0K\u001b[1G92.3 MiB [] 53% 0.7s\u001b[0K\u001b[1G92.3 MiB [] 55% 0.7s\u001b[0K\u001b[1G92.3 MiB [] 56% 0.6s\u001b[0K\u001b[1G92.3 MiB [] 57% 0.6s\u001b[0K\u001b[1G92.3 MiB [] 59% 0.6s\u001b[0K\u001b[1G92.3 MiB [] 61% 0.5s\u001b[0K\u001b[1G92.3 MiB [] 63% 0.5s\u001b[0K\u001b[1G92.3 MiB [] 65% 0.5s\u001b[0K\u001b[1G92.3 MiB [] 67% 0.4s\u001b[0K\u001b[1G92.3 MiB [] 68% 0.4s\u001b[0K\u001b[1G92.3 MiB [] 70% 0.4s\u001b[0K\u001b[1G92.3 MiB [] 72% 0.4s\u001b[0K\u001b[1G92.3 MiB [] 75% 0.3s\u001b[0K\u001b[1G92.3 MiB [] 76% 0.3s\u001b[0K\u001b[1G92.3 MiB [] 78% 0.3s\u001b[0K\u001b[1G92.3 MiB [] 81% 0.2s\u001b[0K\u001b[1G92.3 MiB [] 83% 0.2s\u001b[0K\u001b[1G92.3 MiB [] 85% 0.2s\u001b[0K\u001b[1G92.3 MiB [] 87% 0.2s\u001b[0K\u001b[1G92.3 MiB [] 88% 0.1s\u001b[0K\u001b[1G92.3 MiB [] 90% 0.1s\u001b[0K\u001b[1G92.3 MiB [] 92% 0.1s\u001b[0K\u001b[1G92.3 MiB [] 94% 0.1s\u001b[0K\u001b[1G92.3 MiB [] 96% 0.0s\u001b[0K\u001b[1G92.3 MiB [] 99% 0.0s\u001b[0K\u001b[1G92.3 MiB [] 100% 0.0s\u001b[0K\n",
            "Firefox 139.0 (playwright build v1488) downloaded to /root/.cache/ms-playwright/firefox-1488\n",
            "Downloading Webkit 18.5 (playwright build v2182)\u001b[2m from https://cdn.playwright.dev/dbazure/download/playwright/builds/webkit/2182/webkit-ubuntu-22.04.zip\u001b[22m\n",
            "\u001b[1G93.7 MiB [] 0% 0.0s\u001b[0K\u001b[1G93.7 MiB [] 0% 23.0s\u001b[0K\u001b[1G93.7 MiB [] 0% 14.0s\u001b[0K\u001b[1G93.7 MiB [] 0% 9.2s\u001b[0K\u001b[1G93.7 MiB [] 1% 6.1s\u001b[0K\u001b[1G93.7 MiB [] 2% 4.0s\u001b[0K\u001b[1G93.7 MiB [] 3% 3.1s\u001b[0K\u001b[1G93.7 MiB [] 3% 2.8s\u001b[0K\u001b[1G93.7 MiB [] 5% 2.3s\u001b[0K\u001b[1G93.7 MiB [] 6% 2.0s\u001b[0K\u001b[1G93.7 MiB [] 7% 1.9s\u001b[0K\u001b[1G93.7 MiB [] 8% 1.8s\u001b[0K\u001b[1G93.7 MiB [] 9% 1.9s\u001b[0K\u001b[1G93.7 MiB [] 10% 2.1s\u001b[0K\u001b[1G93.7 MiB [] 11% 2.1s\u001b[0K\u001b[1G93.7 MiB [] 12% 2.1s\u001b[0K\u001b[1G93.7 MiB [] 13% 2.1s\u001b[0K\u001b[1G93.7 MiB [] 14% 2.1s\u001b[0K\u001b[1G93.7 MiB [] 15% 2.1s\u001b[0K\u001b[1G93.7 MiB [] 16% 2.1s\u001b[0K\u001b[1G93.7 MiB [] 17% 2.0s\u001b[0K\u001b[1G93.7 MiB [] 17% 2.1s\u001b[0K\u001b[1G93.7 MiB [] 19% 2.0s\u001b[0K\u001b[1G93.7 MiB [] 20% 1.9s\u001b[0K\u001b[1G93.7 MiB [] 21% 1.9s\u001b[0K\u001b[1G93.7 MiB [] 22% 1.8s\u001b[0K\u001b[1G93.7 MiB [] 23% 1.8s\u001b[0K\u001b[1G93.7 MiB [] 24% 1.7s\u001b[0K\u001b[1G93.7 MiB [] 25% 1.6s\u001b[0K\u001b[1G93.7 MiB [] 26% 1.6s\u001b[0K\u001b[1G93.7 MiB [] 27% 1.5s\u001b[0K\u001b[1G93.7 MiB [] 29% 1.5s\u001b[0K\u001b[1G93.7 MiB [] 30% 1.4s\u001b[0K\u001b[1G93.7 MiB [] 31% 1.4s\u001b[0K\u001b[1G93.7 MiB [] 33% 1.3s\u001b[0K\u001b[1G93.7 MiB [] 34% 1.3s\u001b[0K\u001b[1G93.7 MiB [] 35% 1.3s\u001b[0K\u001b[1G93.7 MiB [] 36% 1.2s\u001b[0K\u001b[1G93.7 MiB [] 38% 1.2s\u001b[0K\u001b[1G93.7 MiB [] 39% 1.1s\u001b[0K\u001b[1G93.7 MiB [] 40% 1.1s\u001b[0K\u001b[1G93.7 MiB [] 40% 1.2s\u001b[0K\u001b[1G93.7 MiB [] 41% 1.2s\u001b[0K\u001b[1G93.7 MiB [] 42% 1.1s\u001b[0K\u001b[1G93.7 MiB [] 44% 1.0s\u001b[0K\u001b[1G93.7 MiB [] 46% 1.0s\u001b[0K\u001b[1G93.7 MiB [] 47% 1.0s\u001b[0K\u001b[1G93.7 MiB [] 49% 0.9s\u001b[0K\u001b[1G93.7 MiB [] 50% 0.9s\u001b[0K\u001b[1G93.7 MiB [] 52% 0.8s\u001b[0K\u001b[1G93.7 MiB [] 53% 0.8s\u001b[0K\u001b[1G93.7 MiB [] 54% 0.8s\u001b[0K\u001b[1G93.7 MiB [] 56% 0.8s\u001b[0K\u001b[1G93.7 MiB [] 57% 0.7s\u001b[0K\u001b[1G93.7 MiB [] 59% 0.7s\u001b[0K\u001b[1G93.7 MiB [] 60% 0.7s\u001b[0K\u001b[1G93.7 MiB [] 61% 0.6s\u001b[0K\u001b[1G93.7 MiB [] 63% 0.6s\u001b[0K\u001b[1G93.7 MiB [] 64% 0.6s\u001b[0K\u001b[1G93.7 MiB [] 65% 0.6s\u001b[0K\u001b[1G93.7 MiB [] 67% 0.5s\u001b[0K\u001b[1G93.7 MiB [] 68% 0.5s\u001b[0K\u001b[1G93.7 MiB [] 70% 0.5s\u001b[0K\u001b[1G93.7 MiB [] 72% 0.4s\u001b[0K\u001b[1G93.7 MiB [] 73% 0.4s\u001b[0K\u001b[1G93.7 MiB [] 74% 0.4s\u001b[0K\u001b[1G93.7 MiB [] 76% 0.4s\u001b[0K\u001b[1G93.7 MiB [] 77% 0.4s\u001b[0K\u001b[1G93.7 MiB [] 79% 0.3s\u001b[0K\u001b[1G93.7 MiB [] 80% 0.3s\u001b[0K\u001b[1G93.7 MiB [] 82% 0.3s\u001b[0K\u001b[1G93.7 MiB [] 83% 0.3s\u001b[0K\u001b[1G93.7 MiB [] 84% 0.2s\u001b[0K\u001b[1G93.7 MiB [] 86% 0.2s\u001b[0K\u001b[1G93.7 MiB [] 87% 0.2s\u001b[0K\u001b[1G93.7 MiB [] 89% 0.2s\u001b[0K\u001b[1G93.7 MiB [] 90% 0.1s\u001b[0K\u001b[1G93.7 MiB [] 92% 0.1s\u001b[0K\u001b[1G93.7 MiB [] 94% 0.1s\u001b[0K\u001b[1G93.7 MiB [] 95% 0.1s\u001b[0K\u001b[1G93.7 MiB [] 96% 0.1s\u001b[0K\u001b[1G93.7 MiB [] 98% 0.0s\u001b[0K\u001b[1G93.7 MiB [] 100% 0.0s\u001b[0K\n",
            "Webkit 18.5 (playwright build v2182) downloaded to /root/.cache/ms-playwright/webkit-2182\n",
            "Downloading FFMPEG playwright build v1011\u001b[2m from https://cdn.playwright.dev/dbazure/download/playwright/builds/ffmpeg/1011/ffmpeg-linux.zip\u001b[22m\n",
            "\u001b[1G2.3 MiB [] 0% 0.0s\u001b[0K\u001b[1G2.3 MiB [] 2% 0.7s\u001b[0K\u001b[1G2.3 MiB [] 8% 0.4s\u001b[0K\u001b[1G2.3 MiB [] 19% 0.2s\u001b[0K\u001b[1G2.3 MiB [] 44% 0.1s\u001b[0K\u001b[1G2.3 MiB [] 80% 0.0s\u001b[0K\u001b[1G2.3 MiB [] 100% 0.0s\u001b[0K\n",
            "FFMPEG playwright build v1011 downloaded to /root/.cache/ms-playwright/ffmpeg-1011\n",
            "Playwright Host validation warning: \n",
            "╔══════════════════════════════════════════════════════╗\n",
            "║ Host system is missing dependencies to run browsers. ║\n",
            "║ Missing libraries:                                   ║\n",
            "║     libwoff2dec.so.1.0.2                             ║\n",
            "║     libgstgl-1.0.so.0                                ║\n",
            "║     libgstcodecparsers-1.0.so.0                      ║\n",
            "║     libavif.so.13                                    ║\n",
            "║     libharfbuzz-icu.so.0                             ║\n",
            "║     libenchant-2.so.2                                ║\n",
            "║     libsecret-1.so.0                                 ║\n",
            "║     libhyphen.so.0                                   ║\n",
            "║     libmanette-0.2.so.0                              ║\n",
            "╚══════════════════════════════════════════════════════╝\n",
            "    at validateDependenciesLinux (/usr/local/lib/python3.11/dist-packages/playwright/driver/package/lib/server/registry/dependencies.js:269:9)\n",
            "\u001b[90m    at process.processTicksAndRejections (node:internal/process/task_queues:105:5)\u001b[39m\n",
            "    at async Registry._validateHostRequirements (/usr/local/lib/python3.11/dist-packages/playwright/driver/package/lib/server/registry/index.js:927:14)\n",
            "    at async Registry._validateHostRequirementsForExecutableIfNeeded (/usr/local/lib/python3.11/dist-packages/playwright/driver/package/lib/server/registry/index.js:1049:7)\n",
            "    at async Registry.validateHostRequirementsForExecutablesIfNeeded (/usr/local/lib/python3.11/dist-packages/playwright/driver/package/lib/server/registry/index.js:1038:7)\n",
            "    at async t.<anonymous> (/usr/local/lib/python3.11/dist-packages/playwright/driver/package/lib/cli/program.js:217:7)\n"
          ]
        }
      ],
      "source": [
        "! playwright install"
      ]
    },
    {
      "cell_type": "markdown",
      "metadata": {
        "id": "mB9FPdixTODB"
      },
      "source": [
        "**SCRAPPING TEXT**"
      ]
    },
    {
      "cell_type": "code",
      "execution_count": null,
      "metadata": {
        "id": "wwd87kMTTJUo"
      },
      "outputs": [],
      "source": [
        "from playwright.async_api import async_playwright\n",
        "import asyncio"
      ]
    },
    {
      "cell_type": "code",
      "execution_count": null,
      "metadata": {
        "colab": {
          "base_uri": "https://localhost:8080/"
        },
        "id": "AwIT1r_lTVVg",
        "outputId": "a28612d8-6115-4989-f3cf-34d21650dced"
      },
      "outputs": [
        {
          "name": "stdout",
          "output_type": "stream",
          "text": [
            "Launching browser...\n",
            "Navigating to page...\n",
            "Getting Content: \n",
            "Done.\n"
          ]
        }
      ],
      "source": [
        "content = None\n",
        "async def main():\n",
        "    async with async_playwright() as p:\n",
        "      global content\n",
        "      print(\"Launching browser...\")\n",
        "      browser = await p.chromium.launch(headless=True)\n",
        "      context = await browser.new_context(user_agent=(\n",
        "    \"Mozilla/5.0 (Macintosh; Intel Mac OS X 10_15_7) AppleWebKit/537.36 \"\n",
        "    \"(KHTML, like Gecko) Chrome/114.0.0.0 Safari/537.36\"\n",
        "      ))\n",
        "      page = await context.new_page()\n",
        "\n",
        "      print(\"Navigating to page...\")\n",
        "      await page.goto(\n",
        "            'https://en.wikisource.org/wiki/The_Gates_of_Morning/Book_1/Chapter_1',\n",
        "            wait_until='domcontentloaded',\n",
        "            timeout=10000\n",
        "        )\n",
        "\n",
        "      print(\"Getting Content: \")\n",
        "      paragraphs = page.locator(\"div.mw-parser-output p\")\n",
        "      count = await paragraphs.count()\n",
        "\n",
        "      content_list = []\n",
        "      for i in range(count):\n",
        "          text = await paragraphs.nth(i).inner_text()\n",
        "          if text.strip():\n",
        "              content_list.append(text.strip())\n",
        "\n",
        "      content = ' '.join(content_list)\n",
        "\n",
        "      await browser.close()\n",
        "      print(\"Done.\")\n",
        "\n",
        "await main()"
      ]
    },
    {
      "cell_type": "code",
      "execution_count": null,
      "metadata": {
        "colab": {
          "base_uri": "https://localhost:8080/"
        },
        "collapsed": true,
        "id": "xrN1oJotI2oz",
        "outputId": "b2cacaa3-8f4c-4d11-99d2-f8db3d90f8d8"
      },
      "outputs": [
        {
          "name": "stdout",
          "output_type": "stream",
          "text": [
            "Collecting langgraph\n",
            "  Downloading langgraph-0.5.0-py3-none-any.whl.metadata (6.7 kB)\n",
            "Collecting langchain_groq\n",
            "  Downloading langchain_groq-0.3.4-py3-none-any.whl.metadata (2.6 kB)\n",
            "Requirement already satisfied: langchain-core>=0.1 in /usr/local/lib/python3.11/dist-packages (from langgraph) (0.3.66)\n",
            "Collecting langgraph-checkpoint>=2.1.0 (from langgraph)\n",
            "  Downloading langgraph_checkpoint-2.1.0-py3-none-any.whl.metadata (4.2 kB)\n",
            "Collecting langgraph-prebuilt>=0.5.0 (from langgraph)\n",
            "  Downloading langgraph_prebuilt-0.5.1-py3-none-any.whl.metadata (4.5 kB)\n",
            "Collecting langgraph-sdk>=0.1.42 (from langgraph)\n",
            "  Downloading langgraph_sdk-0.1.72-py3-none-any.whl.metadata (1.5 kB)\n",
            "Requirement already satisfied: pydantic>=2.7.4 in /usr/local/lib/python3.11/dist-packages (from langgraph) (2.11.7)\n",
            "Requirement already satisfied: xxhash>=3.5.0 in /usr/local/lib/python3.11/dist-packages (from langgraph) (3.5.0)\n",
            "Collecting groq<1,>=0.28.0 (from langchain_groq)\n",
            "  Downloading groq-0.29.0-py3-none-any.whl.metadata (16 kB)\n",
            "Requirement already satisfied: anyio<5,>=3.5.0 in /usr/local/lib/python3.11/dist-packages (from groq<1,>=0.28.0->langchain_groq) (4.9.0)\n",
            "Requirement already satisfied: distro<2,>=1.7.0 in /usr/local/lib/python3.11/dist-packages (from groq<1,>=0.28.0->langchain_groq) (1.9.0)\n",
            "Requirement already satisfied: httpx<1,>=0.23.0 in /usr/local/lib/python3.11/dist-packages (from groq<1,>=0.28.0->langchain_groq) (0.28.1)\n",
            "Requirement already satisfied: sniffio in /usr/local/lib/python3.11/dist-packages (from groq<1,>=0.28.0->langchain_groq) (1.3.1)\n",
            "Requirement already satisfied: typing-extensions<5,>=4.10 in /usr/local/lib/python3.11/dist-packages (from groq<1,>=0.28.0->langchain_groq) (4.14.0)\n",
            "Requirement already satisfied: langsmith>=0.3.45 in /usr/local/lib/python3.11/dist-packages (from langchain-core>=0.1->langgraph) (0.4.1)\n",
            "Requirement already satisfied: tenacity!=8.4.0,<10.0.0,>=8.1.0 in /usr/local/lib/python3.11/dist-packages (from langchain-core>=0.1->langgraph) (8.5.0)\n",
            "Requirement already satisfied: jsonpatch<2.0,>=1.33 in /usr/local/lib/python3.11/dist-packages (from langchain-core>=0.1->langgraph) (1.33)\n",
            "Requirement already satisfied: PyYAML>=5.3 in /usr/local/lib/python3.11/dist-packages (from langchain-core>=0.1->langgraph) (6.0.2)\n",
            "Requirement already satisfied: packaging<25,>=23.2 in /usr/local/lib/python3.11/dist-packages (from langchain-core>=0.1->langgraph) (24.2)\n",
            "Collecting ormsgpack>=1.10.0 (from langgraph-checkpoint>=2.1.0->langgraph)\n",
            "  Downloading ormsgpack-1.10.0-cp311-cp311-manylinux_2_17_x86_64.manylinux2014_x86_64.whl.metadata (43 kB)\n",
            "\u001b[2K     \u001b[90m━━━━━━━━━━━━━━━━━━━━━━━━━━━━━━━━━━━━━━━━\u001b[0m \u001b[32m43.7/43.7 kB\u001b[0m \u001b[31m1.4 MB/s\u001b[0m eta \u001b[36m0:00:00\u001b[0m\n",
            "\u001b[?25hRequirement already satisfied: orjson>=3.10.1 in /usr/local/lib/python3.11/dist-packages (from langgraph-sdk>=0.1.42->langgraph) (3.10.18)\n",
            "Requirement already satisfied: annotated-types>=0.6.0 in /usr/local/lib/python3.11/dist-packages (from pydantic>=2.7.4->langgraph) (0.7.0)\n",
            "Requirement already satisfied: pydantic-core==2.33.2 in /usr/local/lib/python3.11/dist-packages (from pydantic>=2.7.4->langgraph) (2.33.2)\n",
            "Requirement already satisfied: typing-inspection>=0.4.0 in /usr/local/lib/python3.11/dist-packages (from pydantic>=2.7.4->langgraph) (0.4.1)\n",
            "Requirement already satisfied: idna>=2.8 in /usr/local/lib/python3.11/dist-packages (from anyio<5,>=3.5.0->groq<1,>=0.28.0->langchain_groq) (3.10)\n",
            "Requirement already satisfied: certifi in /usr/local/lib/python3.11/dist-packages (from httpx<1,>=0.23.0->groq<1,>=0.28.0->langchain_groq) (2025.6.15)\n",
            "Requirement already satisfied: httpcore==1.* in /usr/local/lib/python3.11/dist-packages (from httpx<1,>=0.23.0->groq<1,>=0.28.0->langchain_groq) (1.0.9)\n",
            "Requirement already satisfied: h11>=0.16 in /usr/local/lib/python3.11/dist-packages (from httpcore==1.*->httpx<1,>=0.23.0->groq<1,>=0.28.0->langchain_groq) (0.16.0)\n",
            "Requirement already satisfied: jsonpointer>=1.9 in /usr/local/lib/python3.11/dist-packages (from jsonpatch<2.0,>=1.33->langchain-core>=0.1->langgraph) (3.0.0)\n",
            "Requirement already satisfied: requests<3,>=2 in /usr/local/lib/python3.11/dist-packages (from langsmith>=0.3.45->langchain-core>=0.1->langgraph) (2.32.3)\n",
            "Requirement already satisfied: requests-toolbelt<2.0.0,>=1.0.0 in /usr/local/lib/python3.11/dist-packages (from langsmith>=0.3.45->langchain-core>=0.1->langgraph) (1.0.0)\n",
            "Requirement already satisfied: zstandard<0.24.0,>=0.23.0 in /usr/local/lib/python3.11/dist-packages (from langsmith>=0.3.45->langchain-core>=0.1->langgraph) (0.23.0)\n",
            "Requirement already satisfied: charset-normalizer<4,>=2 in /usr/local/lib/python3.11/dist-packages (from requests<3,>=2->langsmith>=0.3.45->langchain-core>=0.1->langgraph) (3.4.2)\n",
            "Requirement already satisfied: urllib3<3,>=1.21.1 in /usr/local/lib/python3.11/dist-packages (from requests<3,>=2->langsmith>=0.3.45->langchain-core>=0.1->langgraph) (2.4.0)\n",
            "Downloading langgraph-0.5.0-py3-none-any.whl (143 kB)\n",
            "\u001b[2K   \u001b[90m━━━━━━━━━━━━━━━━━━━━━━━━━━━━━━━━━━━━━━━━\u001b[0m \u001b[32m143.7/143.7 kB\u001b[0m \u001b[31m3.7 MB/s\u001b[0m eta \u001b[36m0:00:00\u001b[0m\n",
            "\u001b[?25hDownloading langchain_groq-0.3.4-py3-none-any.whl (15 kB)\n",
            "Downloading groq-0.29.0-py3-none-any.whl (130 kB)\n",
            "\u001b[2K   \u001b[90m━━━━━━━━━━━━━━━━━━━━━━━━━━━━━━━━━━━━━━━━\u001b[0m \u001b[32m130.8/130.8 kB\u001b[0m \u001b[31m8.1 MB/s\u001b[0m eta \u001b[36m0:00:00\u001b[0m\n",
            "\u001b[?25hDownloading langgraph_checkpoint-2.1.0-py3-none-any.whl (43 kB)\n",
            "\u001b[2K   \u001b[90m━━━━━━━━━━━━━━━━━━━━━━━━━━━━━━━━━━━━━━━━\u001b[0m \u001b[32m43.8/43.8 kB\u001b[0m \u001b[31m2.6 MB/s\u001b[0m eta \u001b[36m0:00:00\u001b[0m\n",
            "\u001b[?25hDownloading langgraph_prebuilt-0.5.1-py3-none-any.whl (23 kB)\n",
            "Downloading langgraph_sdk-0.1.72-py3-none-any.whl (50 kB)\n",
            "\u001b[2K   \u001b[90m━━━━━━━━━━━━━━━━━━━━━━━━━━━━━━━━━━━━━━━━\u001b[0m \u001b[32m50.1/50.1 kB\u001b[0m \u001b[31m2.6 MB/s\u001b[0m eta \u001b[36m0:00:00\u001b[0m\n",
            "\u001b[?25hDownloading ormsgpack-1.10.0-cp311-cp311-manylinux_2_17_x86_64.manylinux2014_x86_64.whl (216 kB)\n",
            "\u001b[2K   \u001b[90m━━━━━━━━━━━━━━━━━━━━━━━━━━━━━━━━━━━━━━━━\u001b[0m \u001b[32m216.5/216.5 kB\u001b[0m \u001b[31m11.5 MB/s\u001b[0m eta \u001b[36m0:00:00\u001b[0m\n",
            "\u001b[?25hInstalling collected packages: ormsgpack, langgraph-sdk, groq, langgraph-checkpoint, langchain_groq, langgraph-prebuilt, langgraph\n",
            "Successfully installed groq-0.29.0 langchain_groq-0.3.4 langgraph-0.5.0 langgraph-checkpoint-2.1.0 langgraph-prebuilt-0.5.1 langgraph-sdk-0.1.72 ormsgpack-1.10.0\n"
          ]
        }
      ],
      "source": [
        "!pip install langgraph langchain_groq"
      ]
    },
    {
      "cell_type": "markdown",
      "metadata": {
        "id": "B_tbhJUkFbAI"
      },
      "source": [
        "\n",
        "**CREATE WORKFLOWS AND CHAIN**\n"
      ]
    },
    {
      "cell_type": "code",
      "execution_count": null,
      "metadata": {
        "collapsed": true,
        "id": "4ROMgh6mYD6r"
      },
      "outputs": [],
      "source": [
        "import os\n",
        "from langchain.chains import LLMChain\n",
        "from langchain import PromptTemplate\n",
        "from langchain_groq import ChatGroq\n",
        "from langgraph.graph import StateGraph, END"
      ]
    },
    {
      "cell_type": "code",
      "execution_count": null,
      "metadata": {
        "id": "Y3-e2fLSYHfl"
      },
      "outputs": [],
      "source": [
        "os.environ[\"GROQ_API_KEY\"] = \"apikey\"\n",
        "llm = ChatGroq(groq_api_key=os.environ[\"GROQ_API_KEY\"], model_name=\"llama3-70b-8192\")"
      ]
    },
    {
      "cell_type": "code",
      "execution_count": null,
      "metadata": {
        "id": "U662qryxYPSy"
      },
      "outputs": [],
      "source": [
        "spinner_prompt = PromptTemplate(\n",
        "    input_variables=['content'],\n",
        "    template='''\n",
        "You are BookSpin AI, an expert literary transformation specialist. Your role is to take existing books, stories, or written content and create\n",
        "compelling variations while maintaining the essence of the original work. You excel at reimagining narratives through different lenses, perspectives, genres,\n",
        " and styles. Dont give any other explanations, output the spinned book alone The content of the book you need to spin or rewrite is\n",
        " {content}\n",
        "'''\n",
        ")\n",
        "spinner_chain = LLMChain(llm=llm, prompt=spinner_prompt)\n",
        "\n",
        "reviewer_prompt = PromptTemplate(\n",
        "    input_variables=['spinned_content'],\n",
        "    template='''llm\n",
        "    You are BookSpin Reviewer AI, a meticulous literary quality analyst specializing in reviewing rewritten or transformed narratives. Your role is to carefully analyze the rewritten version of a book, story, or content created by another AI (BookSpin AI), and provide constructive feedback on the following aspects:\n",
        "\n",
        "- Faithfulness to the original core message, themes, and emotional tone.\n",
        "- Creativity in narrative transformation (style, voice, genre shifts).\n",
        "- Clarity, coherence, and readability of the rewritten content.\n",
        "- Grammar, sentence structure, and literary flow.\n",
        "\n",
        "Provide a clear review that includes:\n",
        "1. A brief summary of what was done well.\n",
        "2. Specific feedback on what could be improved.\n",
        "3. Direct textual corrections or rewrites where necessary.\n",
        "\n",
        "Do not repeat the original or rewritten content. Focus only on evaluation and improvement suggestions.\n",
        "\n",
        "The spinned (rewritten) content to review is:\n",
        "{spinned_content}\n",
        "\n",
        "\n",
        "'''\n",
        ")\n",
        "reviewer_chain = LLMChain(llm=llm, prompt=reviewer_prompt)\n",
        "\n",
        "editor_prompt = PromptTemplate(\n",
        "    input_variables=['spinned_content', 'review_feedback'],\n",
        "    template='''You are BookSpin Editor AI, a highly skilled literary editor trained to revise and enhance rewritten books or stories based on expert feedback. You are given two inputs:\n",
        "\n",
        "1. The spinned content: a rewritten version of an original story, generated by another AI.\n",
        "2. A detailed review and set of improvement suggestions provided by a literary reviewer AI.\n",
        "\n",
        "Your task is to:\n",
        "- Incorporate the feedback and corrections provided by the reviewer.\n",
        "- Improve the content without changing the original transformation's creative direction.\n",
        "- Preserve the artistic tone, narrative voice, and thematic essence of the spinned version.\n",
        "- Make only necessary edits to grammar, style, coherence, and alignment with the original message.\n",
        "\n",
        "Output only the **final edited version** of the spinned content. Do not include any explanations or references to the review or original version.\n",
        "\n",
        "Spinned Content:\n",
        "{spinned_content}\n",
        "\n",
        "Review and Suggestions:\n",
        "{review_feedback}\n",
        "'''\n",
        ")\n",
        "editor_chain = LLMChain(llm=llm, prompt=editor_prompt)\n"
      ]
    },
    {
      "cell_type": "code",
      "execution_count": null,
      "metadata": {
        "colab": {
          "base_uri": "https://localhost:8080/"
        },
        "collapsed": true,
        "id": "XMEkIfSysXFM",
        "outputId": "3e998fb3-b77c-4989-9e02-7eabcd4bc3f2"
      },
      "outputs": [
        {
          "name": "stdout",
          "output_type": "stream",
          "text": [
            "Collecting chromadb\n",
            "  Downloading chromadb-1.0.13-cp39-abi3-manylinux_2_17_x86_64.manylinux2014_x86_64.whl.metadata (7.0 kB)\n",
            "Requirement already satisfied: build>=1.0.3 in /usr/local/lib/python3.11/dist-packages (from chromadb) (1.2.2.post1)\n",
            "Requirement already satisfied: pydantic>=1.9 in /usr/local/lib/python3.11/dist-packages (from chromadb) (2.11.7)\n",
            "Collecting pybase64>=1.4.1 (from chromadb)\n",
            "  Downloading pybase64-1.4.1-cp311-cp311-manylinux_2_5_x86_64.manylinux1_x86_64.manylinux_2_17_x86_64.manylinux2014_x86_64.whl.metadata (8.4 kB)\n",
            "Requirement already satisfied: uvicorn>=0.18.3 in /usr/local/lib/python3.11/dist-packages (from uvicorn[standard]>=0.18.3->chromadb) (0.34.3)\n",
            "Requirement already satisfied: numpy>=1.22.5 in /usr/local/lib/python3.11/dist-packages (from chromadb) (2.0.2)\n",
            "Collecting posthog>=2.4.0 (from chromadb)\n",
            "  Downloading posthog-6.0.0-py3-none-any.whl.metadata (6.0 kB)\n",
            "Requirement already satisfied: typing-extensions>=4.5.0 in /usr/local/lib/python3.11/dist-packages (from chromadb) (4.14.0)\n",
            "Collecting onnxruntime>=1.14.1 (from chromadb)\n",
            "  Downloading onnxruntime-1.22.0-cp311-cp311-manylinux_2_27_x86_64.manylinux_2_28_x86_64.whl.metadata (4.5 kB)\n",
            "Collecting opentelemetry-api>=1.2.0 (from chromadb)\n",
            "  Downloading opentelemetry_api-1.34.1-py3-none-any.whl.metadata (1.5 kB)\n",
            "Collecting opentelemetry-exporter-otlp-proto-grpc>=1.2.0 (from chromadb)\n",
            "  Downloading opentelemetry_exporter_otlp_proto_grpc-1.34.1-py3-none-any.whl.metadata (2.4 kB)\n",
            "Collecting opentelemetry-sdk>=1.2.0 (from chromadb)\n",
            "  Downloading opentelemetry_sdk-1.34.1-py3-none-any.whl.metadata (1.6 kB)\n",
            "Requirement already satisfied: tokenizers>=0.13.2 in /usr/local/lib/python3.11/dist-packages (from chromadb) (0.21.2)\n",
            "Collecting pypika>=0.48.9 (from chromadb)\n",
            "  Downloading PyPika-0.48.9.tar.gz (67 kB)\n",
            "\u001b[2K     \u001b[90m━━━━━━━━━━━━━━━━━━━━━━━━━━━━━━━━━━━━━━━━\u001b[0m \u001b[32m67.3/67.3 kB\u001b[0m \u001b[31m2.5 MB/s\u001b[0m eta \u001b[36m0:00:00\u001b[0m\n",
            "\u001b[?25h  Installing build dependencies ... \u001b[?25l\u001b[?25hdone\n",
            "  Getting requirements to build wheel ... \u001b[?25l\u001b[?25hdone\n",
            "  Preparing metadata (pyproject.toml) ... \u001b[?25l\u001b[?25hdone\n",
            "Requirement already satisfied: tqdm>=4.65.0 in /usr/local/lib/python3.11/dist-packages (from chromadb) (4.67.1)\n",
            "Collecting overrides>=7.3.1 (from chromadb)\n",
            "  Downloading overrides-7.7.0-py3-none-any.whl.metadata (5.8 kB)\n",
            "Requirement already satisfied: importlib-resources in /usr/local/lib/python3.11/dist-packages (from chromadb) (6.5.2)\n",
            "Requirement already satisfied: grpcio>=1.58.0 in /usr/local/lib/python3.11/dist-packages (from chromadb) (1.73.0)\n",
            "Collecting bcrypt>=4.0.1 (from chromadb)\n",
            "  Downloading bcrypt-4.3.0-cp39-abi3-manylinux_2_34_x86_64.whl.metadata (10 kB)\n",
            "Requirement already satisfied: typer>=0.9.0 in /usr/local/lib/python3.11/dist-packages (from chromadb) (0.16.0)\n",
            "Collecting kubernetes>=28.1.0 (from chromadb)\n",
            "  Downloading kubernetes-33.1.0-py2.py3-none-any.whl.metadata (1.7 kB)\n",
            "Requirement already satisfied: tenacity>=8.2.3 in /usr/local/lib/python3.11/dist-packages (from chromadb) (8.5.0)\n",
            "Requirement already satisfied: pyyaml>=6.0.0 in /usr/local/lib/python3.11/dist-packages (from chromadb) (6.0.2)\n",
            "Collecting mmh3>=4.0.1 (from chromadb)\n",
            "  Downloading mmh3-5.1.0-cp311-cp311-manylinux_2_5_x86_64.manylinux1_x86_64.manylinux_2_17_x86_64.manylinux2014_x86_64.whl.metadata (16 kB)\n",
            "Requirement already satisfied: orjson>=3.9.12 in /usr/local/lib/python3.11/dist-packages (from chromadb) (3.10.18)\n",
            "Requirement already satisfied: httpx>=0.27.0 in /usr/local/lib/python3.11/dist-packages (from chromadb) (0.28.1)\n",
            "Requirement already satisfied: rich>=10.11.0 in /usr/local/lib/python3.11/dist-packages (from chromadb) (13.9.4)\n",
            "Requirement already satisfied: jsonschema>=4.19.0 in /usr/local/lib/python3.11/dist-packages (from chromadb) (4.24.0)\n",
            "Requirement already satisfied: packaging>=19.1 in /usr/local/lib/python3.11/dist-packages (from build>=1.0.3->chromadb) (24.2)\n",
            "Requirement already satisfied: pyproject_hooks in /usr/local/lib/python3.11/dist-packages (from build>=1.0.3->chromadb) (1.2.0)\n",
            "Requirement already satisfied: anyio in /usr/local/lib/python3.11/dist-packages (from httpx>=0.27.0->chromadb) (4.9.0)\n",
            "Requirement already satisfied: certifi in /usr/local/lib/python3.11/dist-packages (from httpx>=0.27.0->chromadb) (2025.6.15)\n",
            "Requirement already satisfied: httpcore==1.* in /usr/local/lib/python3.11/dist-packages (from httpx>=0.27.0->chromadb) (1.0.9)\n",
            "Requirement already satisfied: idna in /usr/local/lib/python3.11/dist-packages (from httpx>=0.27.0->chromadb) (3.10)\n",
            "Requirement already satisfied: h11>=0.16 in /usr/local/lib/python3.11/dist-packages (from httpcore==1.*->httpx>=0.27.0->chromadb) (0.16.0)\n",
            "Requirement already satisfied: attrs>=22.2.0 in /usr/local/lib/python3.11/dist-packages (from jsonschema>=4.19.0->chromadb) (25.3.0)\n",
            "Requirement already satisfied: jsonschema-specifications>=2023.03.6 in /usr/local/lib/python3.11/dist-packages (from jsonschema>=4.19.0->chromadb) (2025.4.1)\n",
            "Requirement already satisfied: referencing>=0.28.4 in /usr/local/lib/python3.11/dist-packages (from jsonschema>=4.19.0->chromadb) (0.36.2)\n",
            "Requirement already satisfied: rpds-py>=0.7.1 in /usr/local/lib/python3.11/dist-packages (from jsonschema>=4.19.0->chromadb) (0.25.1)\n",
            "Requirement already satisfied: six>=1.9.0 in /usr/local/lib/python3.11/dist-packages (from kubernetes>=28.1.0->chromadb) (1.17.0)\n",
            "Requirement already satisfied: python-dateutil>=2.5.3 in /usr/local/lib/python3.11/dist-packages (from kubernetes>=28.1.0->chromadb) (2.9.0.post0)\n",
            "Requirement already satisfied: google-auth>=1.0.1 in /usr/local/lib/python3.11/dist-packages (from kubernetes>=28.1.0->chromadb) (2.38.0)\n",
            "Requirement already satisfied: websocket-client!=0.40.0,!=0.41.*,!=0.42.*,>=0.32.0 in /usr/local/lib/python3.11/dist-packages (from kubernetes>=28.1.0->chromadb) (1.8.0)\n",
            "Requirement already satisfied: requests in /usr/local/lib/python3.11/dist-packages (from kubernetes>=28.1.0->chromadb) (2.32.3)\n",
            "Requirement already satisfied: requests-oauthlib in /usr/local/lib/python3.11/dist-packages (from kubernetes>=28.1.0->chromadb) (2.0.0)\n",
            "Requirement already satisfied: oauthlib>=3.2.2 in /usr/local/lib/python3.11/dist-packages (from kubernetes>=28.1.0->chromadb) (3.3.1)\n",
            "Requirement already satisfied: urllib3>=1.24.2 in /usr/local/lib/python3.11/dist-packages (from kubernetes>=28.1.0->chromadb) (2.4.0)\n",
            "Collecting durationpy>=0.7 (from kubernetes>=28.1.0->chromadb)\n",
            "  Downloading durationpy-0.10-py3-none-any.whl.metadata (340 bytes)\n",
            "Collecting coloredlogs (from onnxruntime>=1.14.1->chromadb)\n",
            "  Downloading coloredlogs-15.0.1-py2.py3-none-any.whl.metadata (12 kB)\n",
            "Requirement already satisfied: flatbuffers in /usr/local/lib/python3.11/dist-packages (from onnxruntime>=1.14.1->chromadb) (25.2.10)\n",
            "Requirement already satisfied: protobuf in /usr/local/lib/python3.11/dist-packages (from onnxruntime>=1.14.1->chromadb) (5.29.5)\n",
            "Requirement already satisfied: sympy in /usr/local/lib/python3.11/dist-packages (from onnxruntime>=1.14.1->chromadb) (1.13.1)\n",
            "Requirement already satisfied: importlib-metadata<8.8.0,>=6.0 in /usr/local/lib/python3.11/dist-packages (from opentelemetry-api>=1.2.0->chromadb) (8.7.0)\n",
            "Requirement already satisfied: googleapis-common-protos~=1.52 in /usr/local/lib/python3.11/dist-packages (from opentelemetry-exporter-otlp-proto-grpc>=1.2.0->chromadb) (1.70.0)\n",
            "Collecting opentelemetry-exporter-otlp-proto-common==1.34.1 (from opentelemetry-exporter-otlp-proto-grpc>=1.2.0->chromadb)\n",
            "  Downloading opentelemetry_exporter_otlp_proto_common-1.34.1-py3-none-any.whl.metadata (1.9 kB)\n",
            "Collecting opentelemetry-proto==1.34.1 (from opentelemetry-exporter-otlp-proto-grpc>=1.2.0->chromadb)\n",
            "  Downloading opentelemetry_proto-1.34.1-py3-none-any.whl.metadata (2.4 kB)\n",
            "Collecting opentelemetry-semantic-conventions==0.55b1 (from opentelemetry-sdk>=1.2.0->chromadb)\n",
            "  Downloading opentelemetry_semantic_conventions-0.55b1-py3-none-any.whl.metadata (2.5 kB)\n",
            "Collecting backoff>=1.10.0 (from posthog>=2.4.0->chromadb)\n",
            "  Downloading backoff-2.2.1-py3-none-any.whl.metadata (14 kB)\n",
            "Requirement already satisfied: distro>=1.5.0 in /usr/local/lib/python3.11/dist-packages (from posthog>=2.4.0->chromadb) (1.9.0)\n",
            "Requirement already satisfied: annotated-types>=0.6.0 in /usr/local/lib/python3.11/dist-packages (from pydantic>=1.9->chromadb) (0.7.0)\n",
            "Requirement already satisfied: pydantic-core==2.33.2 in /usr/local/lib/python3.11/dist-packages (from pydantic>=1.9->chromadb) (2.33.2)\n",
            "Requirement already satisfied: typing-inspection>=0.4.0 in /usr/local/lib/python3.11/dist-packages (from pydantic>=1.9->chromadb) (0.4.1)\n",
            "Requirement already satisfied: markdown-it-py>=2.2.0 in /usr/local/lib/python3.11/dist-packages (from rich>=10.11.0->chromadb) (3.0.0)\n",
            "Requirement already satisfied: pygments<3.0.0,>=2.13.0 in /usr/local/lib/python3.11/dist-packages (from rich>=10.11.0->chromadb) (2.19.2)\n",
            "Requirement already satisfied: huggingface-hub<1.0,>=0.16.4 in /usr/local/lib/python3.11/dist-packages (from tokenizers>=0.13.2->chromadb) (0.33.0)\n",
            "Requirement already satisfied: click>=8.0.0 in /usr/local/lib/python3.11/dist-packages (from typer>=0.9.0->chromadb) (8.2.1)\n",
            "Requirement already satisfied: shellingham>=1.3.0 in /usr/local/lib/python3.11/dist-packages (from typer>=0.9.0->chromadb) (1.5.4)\n",
            "Collecting httptools>=0.6.3 (from uvicorn[standard]>=0.18.3->chromadb)\n",
            "  Downloading httptools-0.6.4-cp311-cp311-manylinux_2_5_x86_64.manylinux1_x86_64.manylinux_2_17_x86_64.manylinux2014_x86_64.whl.metadata (3.6 kB)\n",
            "Collecting python-dotenv>=0.13 (from uvicorn[standard]>=0.18.3->chromadb)\n",
            "  Downloading python_dotenv-1.1.1-py3-none-any.whl.metadata (24 kB)\n",
            "Collecting uvloop>=0.15.1 (from uvicorn[standard]>=0.18.3->chromadb)\n",
            "  Downloading uvloop-0.21.0-cp311-cp311-manylinux_2_17_x86_64.manylinux2014_x86_64.whl.metadata (4.9 kB)\n",
            "Collecting watchfiles>=0.13 (from uvicorn[standard]>=0.18.3->chromadb)\n",
            "  Downloading watchfiles-1.1.0-cp311-cp311-manylinux_2_17_x86_64.manylinux2014_x86_64.whl.metadata (4.9 kB)\n",
            "Requirement already satisfied: websockets>=10.4 in /usr/local/lib/python3.11/dist-packages (from uvicorn[standard]>=0.18.3->chromadb) (15.0.1)\n",
            "Requirement already satisfied: cachetools<6.0,>=2.0.0 in /usr/local/lib/python3.11/dist-packages (from google-auth>=1.0.1->kubernetes>=28.1.0->chromadb) (5.5.2)\n",
            "Requirement already satisfied: pyasn1-modules>=0.2.1 in /usr/local/lib/python3.11/dist-packages (from google-auth>=1.0.1->kubernetes>=28.1.0->chromadb) (0.4.2)\n",
            "Requirement already satisfied: rsa<5,>=3.1.4 in /usr/local/lib/python3.11/dist-packages (from google-auth>=1.0.1->kubernetes>=28.1.0->chromadb) (4.9.1)\n",
            "Requirement already satisfied: filelock in /usr/local/lib/python3.11/dist-packages (from huggingface-hub<1.0,>=0.16.4->tokenizers>=0.13.2->chromadb) (3.18.0)\n",
            "Requirement already satisfied: fsspec>=2023.5.0 in /usr/local/lib/python3.11/dist-packages (from huggingface-hub<1.0,>=0.16.4->tokenizers>=0.13.2->chromadb) (2025.3.2)\n",
            "Requirement already satisfied: hf-xet<2.0.0,>=1.1.2 in /usr/local/lib/python3.11/dist-packages (from huggingface-hub<1.0,>=0.16.4->tokenizers>=0.13.2->chromadb) (1.1.5)\n",
            "Requirement already satisfied: zipp>=3.20 in /usr/local/lib/python3.11/dist-packages (from importlib-metadata<8.8.0,>=6.0->opentelemetry-api>=1.2.0->chromadb) (3.23.0)\n",
            "Requirement already satisfied: mdurl~=0.1 in /usr/local/lib/python3.11/dist-packages (from markdown-it-py>=2.2.0->rich>=10.11.0->chromadb) (0.1.2)\n",
            "Requirement already satisfied: charset-normalizer<4,>=2 in /usr/local/lib/python3.11/dist-packages (from requests->kubernetes>=28.1.0->chromadb) (3.4.2)\n",
            "Requirement already satisfied: sniffio>=1.1 in /usr/local/lib/python3.11/dist-packages (from anyio->httpx>=0.27.0->chromadb) (1.3.1)\n",
            "Collecting humanfriendly>=9.1 (from coloredlogs->onnxruntime>=1.14.1->chromadb)\n",
            "  Downloading humanfriendly-10.0-py2.py3-none-any.whl.metadata (9.2 kB)\n",
            "Requirement already satisfied: mpmath<1.4,>=1.1.0 in /usr/local/lib/python3.11/dist-packages (from sympy->onnxruntime>=1.14.1->chromadb) (1.3.0)\n",
            "Requirement already satisfied: pyasn1<0.7.0,>=0.6.1 in /usr/local/lib/python3.11/dist-packages (from pyasn1-modules>=0.2.1->google-auth>=1.0.1->kubernetes>=28.1.0->chromadb) (0.6.1)\n",
            "Downloading chromadb-1.0.13-cp39-abi3-manylinux_2_17_x86_64.manylinux2014_x86_64.whl (19.3 MB)\n",
            "\u001b[2K   \u001b[90m━━━━━━━━━━━━━━━━━━━━━━━━━━━━━━━━━━━━━━━━\u001b[0m \u001b[32m19.3/19.3 MB\u001b[0m \u001b[31m41.1 MB/s\u001b[0m eta \u001b[36m0:00:00\u001b[0m\n",
            "\u001b[?25hDownloading bcrypt-4.3.0-cp39-abi3-manylinux_2_34_x86_64.whl (284 kB)\n",
            "\u001b[2K   \u001b[90m━━━━━━━━━━━━━━━━━━━━━━━━━━━━━━━━━━━━━━━━\u001b[0m \u001b[32m284.2/284.2 kB\u001b[0m \u001b[31m20.4 MB/s\u001b[0m eta \u001b[36m0:00:00\u001b[0m\n",
            "\u001b[?25hDownloading kubernetes-33.1.0-py2.py3-none-any.whl (1.9 MB)\n",
            "\u001b[2K   \u001b[90m━━━━━━━━━━━━━━━━━━━━━━━━━━━━━━━━━━━━━━━━\u001b[0m \u001b[32m1.9/1.9 MB\u001b[0m \u001b[31m52.0 MB/s\u001b[0m eta \u001b[36m0:00:00\u001b[0m\n",
            "\u001b[?25hDownloading mmh3-5.1.0-cp311-cp311-manylinux_2_5_x86_64.manylinux1_x86_64.manylinux_2_17_x86_64.manylinux2014_x86_64.whl (101 kB)\n",
            "\u001b[2K   \u001b[90m━━━━━━━━━━━━━━━━━━━━━━━━━━━━━━━━━━━━━━━━\u001b[0m \u001b[32m101.6/101.6 kB\u001b[0m \u001b[31m6.3 MB/s\u001b[0m eta \u001b[36m0:00:00\u001b[0m\n",
            "\u001b[?25hDownloading onnxruntime-1.22.0-cp311-cp311-manylinux_2_27_x86_64.manylinux_2_28_x86_64.whl (16.4 MB)\n",
            "\u001b[2K   \u001b[90m━━━━━━━━━━━━━━━━━━━━━━━━━━━━━━━━━━━━━━━━\u001b[0m \u001b[32m16.4/16.4 MB\u001b[0m \u001b[31m49.0 MB/s\u001b[0m eta \u001b[36m0:00:00\u001b[0m\n",
            "\u001b[?25hDownloading opentelemetry_api-1.34.1-py3-none-any.whl (65 kB)\n",
            "\u001b[2K   \u001b[90m━━━━━━━━━━━━━━━━━━━━━━━━━━━━━━━━━━━━━━━━\u001b[0m \u001b[32m65.8/65.8 kB\u001b[0m \u001b[31m548.0 kB/s\u001b[0m eta \u001b[36m0:00:00\u001b[0m\n",
            "\u001b[?25hDownloading opentelemetry_exporter_otlp_proto_grpc-1.34.1-py3-none-any.whl (18 kB)\n",
            "Downloading opentelemetry_exporter_otlp_proto_common-1.34.1-py3-none-any.whl (18 kB)\n",
            "Downloading opentelemetry_proto-1.34.1-py3-none-any.whl (55 kB)\n",
            "\u001b[2K   \u001b[90m━━━━━━━━━━━━━━━━━━━━━━━━━━━━━━━━━━━━━━━━\u001b[0m \u001b[32m55.7/55.7 kB\u001b[0m \u001b[31m3.2 MB/s\u001b[0m eta \u001b[36m0:00:00\u001b[0m\n",
            "\u001b[?25hDownloading opentelemetry_sdk-1.34.1-py3-none-any.whl (118 kB)\n",
            "\u001b[2K   \u001b[90m━━━━━━━━━━━━━━━━━━━━━━━━━━━━━━━━━━━━━━━━\u001b[0m \u001b[32m118.5/118.5 kB\u001b[0m \u001b[31m6.3 MB/s\u001b[0m eta \u001b[36m0:00:00\u001b[0m\n",
            "\u001b[?25hDownloading opentelemetry_semantic_conventions-0.55b1-py3-none-any.whl (196 kB)\n",
            "\u001b[2K   \u001b[90m━━━━━━━━━━━━━━━━━━━━━━━━━━━━━━━━━━━━━━━━\u001b[0m \u001b[32m196.2/196.2 kB\u001b[0m \u001b[31m9.9 MB/s\u001b[0m eta \u001b[36m0:00:00\u001b[0m\n",
            "\u001b[?25hDownloading overrides-7.7.0-py3-none-any.whl (17 kB)\n",
            "Downloading posthog-6.0.0-py3-none-any.whl (104 kB)\n",
            "\u001b[2K   \u001b[90m━━━━━━━━━━━━━━━━━━━━━━━━━━━━━━━━━━━━━━━━\u001b[0m \u001b[32m104.9/104.9 kB\u001b[0m \u001b[31m6.5 MB/s\u001b[0m eta \u001b[36m0:00:00\u001b[0m\n",
            "\u001b[?25hDownloading pybase64-1.4.1-cp311-cp311-manylinux_2_5_x86_64.manylinux1_x86_64.manylinux_2_17_x86_64.manylinux2014_x86_64.whl (71 kB)\n",
            "\u001b[2K   \u001b[90m━━━━━━━━━━━━━━━━━━━━━━━━━━━━━━━━━━━━━━━━\u001b[0m \u001b[32m71.2/71.2 kB\u001b[0m \u001b[31m4.2 MB/s\u001b[0m eta \u001b[36m0:00:00\u001b[0m\n",
            "\u001b[?25hDownloading backoff-2.2.1-py3-none-any.whl (15 kB)\n",
            "Downloading durationpy-0.10-py3-none-any.whl (3.9 kB)\n",
            "Downloading httptools-0.6.4-cp311-cp311-manylinux_2_5_x86_64.manylinux1_x86_64.manylinux_2_17_x86_64.manylinux2014_x86_64.whl (459 kB)\n",
            "\u001b[2K   \u001b[90m━━━━━━━━━━━━━━━━━━━━━━━━━━━━━━━━━━━━━━━━\u001b[0m \u001b[32m459.8/459.8 kB\u001b[0m \u001b[31m22.6 MB/s\u001b[0m eta \u001b[36m0:00:00\u001b[0m\n",
            "\u001b[?25hDownloading python_dotenv-1.1.1-py3-none-any.whl (20 kB)\n",
            "Downloading uvloop-0.21.0-cp311-cp311-manylinux_2_17_x86_64.manylinux2014_x86_64.whl (4.0 MB)\n",
            "\u001b[2K   \u001b[90m━━━━━━━━━━━━━━━━━━━━━━━━━━━━━━━━━━━━━━━━\u001b[0m \u001b[32m4.0/4.0 MB\u001b[0m \u001b[31m69.7 MB/s\u001b[0m eta \u001b[36m0:00:00\u001b[0m\n",
            "\u001b[?25hDownloading watchfiles-1.1.0-cp311-cp311-manylinux_2_17_x86_64.manylinux2014_x86_64.whl (453 kB)\n",
            "\u001b[2K   \u001b[90m━━━━━━━━━━━━━━━━━━━━━━━━━━━━━━━━━━━━━━━━\u001b[0m \u001b[32m453.1/453.1 kB\u001b[0m \u001b[31m21.3 MB/s\u001b[0m eta \u001b[36m0:00:00\u001b[0m\n",
            "\u001b[?25hDownloading coloredlogs-15.0.1-py2.py3-none-any.whl (46 kB)\n",
            "\u001b[2K   \u001b[90m━━━━━━━━━━━━━━━━━━━━━━━━━━━━━━━━━━━━━━━━\u001b[0m \u001b[32m46.0/46.0 kB\u001b[0m \u001b[31m2.3 MB/s\u001b[0m eta \u001b[36m0:00:00\u001b[0m\n",
            "\u001b[?25hDownloading humanfriendly-10.0-py2.py3-none-any.whl (86 kB)\n",
            "\u001b[2K   \u001b[90m━━━━━━━━━━━━━━━━━━━━━━━━━━━━━━━━━━━━━━━━\u001b[0m \u001b[32m86.8/86.8 kB\u001b[0m \u001b[31m5.1 MB/s\u001b[0m eta \u001b[36m0:00:00\u001b[0m\n",
            "\u001b[?25hBuilding wheels for collected packages: pypika\n",
            "  Building wheel for pypika (pyproject.toml) ... \u001b[?25l\u001b[?25hdone\n",
            "  Created wheel for pypika: filename=pypika-0.48.9-py2.py3-none-any.whl size=53803 sha256=35fb5b64eee70d36a29856c825d9e208f46afb94f6d20135d3a006aa9c0cf738\n",
            "  Stored in directory: /root/.cache/pip/wheels/a3/01/bd/4c40ceb9d5354160cb186dcc153360f4ab7eb23e2b24daf96d\n",
            "Successfully built pypika\n",
            "Installing collected packages: pypika, durationpy, uvloop, python-dotenv, pybase64, overrides, opentelemetry-proto, mmh3, humanfriendly, httptools, bcrypt, backoff, watchfiles, posthog, opentelemetry-exporter-otlp-proto-common, opentelemetry-api, coloredlogs, opentelemetry-semantic-conventions, onnxruntime, kubernetes, opentelemetry-sdk, opentelemetry-exporter-otlp-proto-grpc, chromadb\n",
            "Successfully installed backoff-2.2.1 bcrypt-4.3.0 chromadb-1.0.13 coloredlogs-15.0.1 durationpy-0.10 httptools-0.6.4 humanfriendly-10.0 kubernetes-33.1.0 mmh3-5.1.0 onnxruntime-1.22.0 opentelemetry-api-1.34.1 opentelemetry-exporter-otlp-proto-common-1.34.1 opentelemetry-exporter-otlp-proto-grpc-1.34.1 opentelemetry-proto-1.34.1 opentelemetry-sdk-1.34.1 opentelemetry-semantic-conventions-0.55b1 overrides-7.7.0 posthog-6.0.0 pybase64-1.4.1 pypika-0.48.9 python-dotenv-1.1.1 uvloop-0.21.0 watchfiles-1.1.0\n"
          ]
        }
      ],
      "source": [
        "!pip install chromadb"
      ]
    },
    {
      "cell_type": "markdown",
      "metadata": {
        "id": "ZpILNIpBFnXC"
      },
      "source": [
        "**NEW COLLECTION**"
      ]
    },
    {
      "cell_type": "code",
      "execution_count": null,
      "metadata": {
        "colab": {
          "base_uri": "https://localhost:8080/"
        },
        "id": "6zYsY41xZi2t",
        "outputId": "d9290486-6345-4e07-d4c0-fa0730531f41"
      },
      "outputs": [
        {
          "name": "stdout",
          "output_type": "stream",
          "text": [
            "Enter the name of the book (collection) if you are spinning new book: Chapter-1\n"
          ]
        },
        {
          "name": "stderr",
          "output_type": "stream",
          "text": [
            "ERROR:chromadb.telemetry.product.posthog:Failed to send telemetry event ClientStartEvent: capture() takes 1 positional argument but 3 were given\n",
            "ERROR:chromadb.telemetry.product.posthog:Failed to send telemetry event ClientCreateCollectionEvent: capture() takes 1 positional argument but 3 were given\n"
          ]
        }
      ],
      "source": [
        "import chromadb\n",
        "\n",
        "collection_name = input(\"Enter the name of the book (collection) if you are spinning new book: \")\n",
        "\n",
        "chroma_client = chromadb.Client()\n",
        "collection = chroma_client.get_or_create_collection(name=collection_name)"
      ]
    },
    {
      "cell_type": "markdown",
      "metadata": {
        "id": "dVdk04_PFrbL"
      },
      "source": [
        "**AGENTS**"
      ]
    },
    {
      "cell_type": "code",
      "execution_count": null,
      "metadata": {
        "id": "4ERrpxvN2csS"
      },
      "outputs": [],
      "source": [
        "def score_and_tag_generator(input):\n",
        "  score_and_tag_generator_prompt = PromptTemplate(\n",
        "      input_variables = ['input'],\n",
        "      template =\"\"\"\n",
        "Analyze the following text and perform two tasks:\n",
        "\n",
        "1. Assign a quality score out of 10 based on:\n",
        "   - Clarity\n",
        "   - Coherence\n",
        "   - Tone appropriateness\n",
        "   - Content depth\n",
        "\n",
        "2. Generate 2 to 4 quality tags that describe:\n",
        "   - Tone (e.g., formal, creative)\n",
        "   - Clarity (e.g., concise, verbose)\n",
        "   - Content type (e.g., informative, poetic)\n",
        "   - Style (e.g., factual, engaging)\n",
        "\n",
        "TEXT:\n",
        "{input}\n",
        "\n",
        "Return your output strictly in the following format. Dont give anything extra. Not even a single character. Give only the score and the tags list separated by a comma. This is very strict\n",
        "dont give the same score for all the inputs, and you can give more than four tags also.\n",
        "\n",
        "<integer between 1 and 10>,tag1,tag2,tag3,tagns\n",
        "\"\"\"\n",
        "  )\n",
        "  score_and_tag_generator_chain = LLMChain(llm=llm,prompt=score_and_tag_generator_prompt)\n",
        "\n",
        "  score_tag = score_and_tag_generator_chain.run(input=input)\n",
        "\n",
        "\n",
        "  s = score_tag\n",
        "\n",
        "\n",
        "  score_str, tags_str = s.split(',', 1)\n",
        "\n",
        "  score = int(score_str.strip())\n",
        "  tags = tags_str.strip()\n",
        "  return score,tags"
      ]
    },
    {
      "cell_type": "code",
      "execution_count": null,
      "metadata": {
        "id": "GKU-akDiXm2G"
      },
      "outputs": [],
      "source": [
        "from typing import TypedDict, Optional\n",
        "from datetime import datetime\n",
        "import ast\n",
        "\n",
        "\n",
        "class BookSpinState(TypedDict):\n",
        "    book: str\n",
        "    spinned: Optional[str]\n",
        "    review: Optional[str]\n",
        "    final: Optional[str]\n",
        "\n",
        "\n",
        "def edit_with_user(prompt_msg, default_value):\n",
        "    print(prompt_msg)\n",
        "    print(\"-\" * 40)\n",
        "    print(default_value)\n",
        "    print(\"-\" * 40)\n",
        "    print(\"You can now edit the content. Leave blank space to accept without any changes.\")\n",
        "    user_edit = input(\"Enter your edited content:\")\n",
        "    return user_edit.strip() if user_edit.strip() else default_value\n",
        "\n",
        "\n",
        "def spin_node(state: BookSpinState):\n",
        "  ai_result = spinner_chain.run(content=state[\"book\"])\n",
        "  user_approved = edit_with_user(\"Spinned Output\", ai_result)\n",
        "  score,tags = score_and_tag_generator(user_approved)\n",
        "\n",
        "\n",
        "  collection.add(\n",
        "  documents=[content],\n",
        "  ids=[f\"v_{datetime.utcnow().strftime('%Y%m%d_%H%M%S')}\"],\n",
        "  metadatas=[{\n",
        "      \"version\":\"spinned\",\n",
        "      \"source\":\"wikisource\",\n",
        "      \"generator_agent\":\"spin\",\n",
        "      \"timestamp\":datetime.utcnow().isoformat(),\n",
        "      \"score\": score,\n",
        "      \"quality_tags\": tags,\n",
        "      \"length\":len(user_approved),\n",
        "    }])\n",
        "\n",
        "  return {\"spinned\": user_approved}\n",
        "\n",
        "def review_node(state: BookSpinState):\n",
        "    ai_result = reviewer_chain.run(spinned_content=state[\"spinned\"])\n",
        "    user_approved = edit_with_user(\"Review Feedback\", ai_result)\n",
        "    return {\"review\": user_approved}\n",
        "\n",
        "def edit_node(state: BookSpinState):\n",
        "  ai_result = editor_chain.run(\n",
        "      spinned_content=state[\"spinned\"],\n",
        "      review_feedback=state[\"review\"]\n",
        "  )\n",
        "  user_approved = edit_with_user(\"Final Edited Version\", ai_result)\n",
        "  score,tags = score_and_tag_generator(user_approved)\n",
        "\n",
        "  collection.add(\n",
        "  documents=[content],\n",
        "  ids=[f\"v_{datetime.utcnow().strftime('%Y%m%d_%H%M%S')}\"],\n",
        "  metadatas=[{\n",
        "      \"version\":\"spinned_final\",\n",
        "      \"source\":\"wikisource\",\n",
        "      \"generator_agent\":\"editor\",\n",
        "      \"timestamp\":datetime.utcnow().isoformat(),\n",
        "      \"score\": score,\n",
        "      \"quality_tags\": tags,\n",
        "      \"length\":len(user_approved),\n",
        "    }])\n",
        "  return {\"final\": user_approved}\n"
      ]
    },
    {
      "cell_type": "markdown",
      "metadata": {
        "id": "zEaJSSehF3Up"
      },
      "source": [
        "**LANGGRAPH PART**"
      ]
    },
    {
      "cell_type": "code",
      "execution_count": null,
      "metadata": {
        "id": "JgkQJYgwZSrm"
      },
      "outputs": [],
      "source": [
        "\n",
        "builder = StateGraph(BookSpinState)\n",
        "\n",
        "builder.add_node(\"spin\", spin_node)\n",
        "builder.add_node(\"review_node\", review_node)\n",
        "builder.add_node(\"edit_node\", edit_node)\n",
        "\n",
        "builder.set_entry_point(\"spin\")\n",
        "builder.add_edge(\"spin\", \"review_node\")\n",
        "builder.add_edge(\"review_node\", \"edit_node\")\n",
        "builder.add_edge(\"edit_node\", END)\n",
        "\n",
        "graph = builder.compile()"
      ]
    },
    {
      "cell_type": "code",
      "execution_count": null,
      "metadata": {
        "colab": {
          "base_uri": "https://localhost:8080/"
        },
        "collapsed": true,
        "id": "1qf_3gRhZWpH",
        "outputId": "427e62a6-14cb-4469-fb8f-9444160ef013"
      },
      "outputs": [
        {
          "name": "stdout",
          "output_type": "stream",
          "text": [
            "\n",
            "[HITL: Spinned Output]\n",
            "----------------------------------------\n",
            "Here is a rewritten version of \"The Gates of Morning\" with a focus on a fantasy setting and a strong female protagonist:\n",
            "\n",
            "**The Shores of Dawn**\n",
            "\n",
            "CHAPTER I: The Sea Witch's Isle\n",
            "\n",
            "Kala stood on the windswept promontory, her emerald eyes fixed on the southern horizon. Behind her, the waves of the outer sea crashed against the rocky shores of her island, while before her, the calm waters of the lagoon shimmered like a sheet of silver. This was her domain, a realm of ancient magic, where the whispers of the sea goddesses still lingered in the wind.\n",
            "\n",
            "As she gazed out at the lagoon, her thoughts turned to the people who called this place home. The women, children, and youths of the island were all hers to protect, and she had sworn to defend them against the darkness that lurked beyond the horizon. Her people were skilled in the arcane arts, and their canoes were crafted with magic and precision, but they were no match for the ruthless pirates who roamed the seas.\n",
            "\n",
            "Little Akira, the son of the island's elder, approached her, his eyes shining with curiosity. \"Kala, who are you?\" he asked, his voice barely above a whisper.\n",
            "\n",
            "Kala's gaze softened as she looked down at the child. She had come to this island as a stranger, a sea witch with powers beyond the understanding of mortal men. The islanders had welcomed her, sensing the power that lay within her, and together they had forged a new path, one that would keep their home safe from the threats that lurked beyond the waves.\n",
            "\n",
            "As she looked out at the sea, memories stirred within her. She recalled the day she had arrived on the island, a refugee from a world of darkness and fire. She had been drawn to this place by the whispers of the sea goddesses, who had chosen her to be their champion. And now, as she stood on the promontory, she felt the weight of her responsibility, the burden of protecting her people from the forces of evil that sought to destroy them.\n",
            "\n",
            "Akira's question still lingered in the air, but Kala knew she could not answer it, not yet. The secrets of her past were shrouded in mystery, even to herself. She knew only that she had been born of the sea, forged in the depths of the ocean, and that her power was tied to the tides and the waves.\n",
            "\n",
            "As she turned to face the lagoon, her eyes met those of her loyal companion, Lyra, who stood on the beach, her gaze fixed on the northern horizon. Together, they had faced the darkness before, and together they would face it again, when the time came.\n",
            "\n",
            "The vision of the pirates' stronghold, a fortress of black stone and twisted iron, rose before her eyes, a reminder of the threat that lurked beyond the horizon. They would come, she knew, driven by their lust for power and their disregard for the ancient magic that sustained this island. But Kala was ready, her powers growing stronger with each passing day, her determination to protect her people burning brighter than the sun.\n",
            "\n",
            "In the distance, a canoe approached, its paddles dipping rhythmically in the water. It was the canoe she had sent for the master craftsmen, who would help her build a fleet of war canoes, strong enough to defend against the pirates' attack. As the canoe drew closer, Kala's heart beat faster, her pulse pounding with excitement. The battle ahead would be fierce, but she was ready, for she was the sea witch, the guardian of the Shores of Dawn.\n",
            "----------------------------------------\n",
            "You may now edit the content. Leave blank to accept as-is.\n",
            "Enter your edited content (or press Enter to keep as-is):\n",
            "\n"
          ]
        },
        {
          "name": "stderr",
          "output_type": "stream",
          "text": [
            "ERROR:chromadb.telemetry.product.posthog:Failed to send telemetry event CollectionAddEvent: capture() takes 1 positional argument but 3 were given\n"
          ]
        },
        {
          "name": "stdout",
          "output_type": "stream",
          "text": [
            "\n",
            "[HITL: Review Feedback]\n",
            "----------------------------------------\n",
            "**BookSpin Reviewer AI's Evaluation**\n",
            "\n",
            "**Overall Assessment:**\n",
            "The rewritten version, \"The Shores of Dawn,\" demonstrates a commendable effort in transforming the original narrative into a fantasy setting with a strong female protagonist. The story showcases a vivid and immersive world, with a clear sense of magic and wonder. However, there are areas that require attention to elevate the narrative to its full potential.\n",
            "\n",
            "**What was done well:**\n",
            "\n",
            "* The author has successfully created a captivating setting, with vivid descriptions of the island, the sea, and the lagoon.\n",
            "* The introduction of Kala, the sea witch, is intriguing, and her backstory and motivations are skillfully woven throughout the chapter.\n",
            "* The sense of foreboding and danger lurking beyond the horizon is effectively conveyed, creating tension and suspense.\n",
            "\n",
            "**Specific Feedback on Improvement:**\n",
            "\n",
            "* While the setting is richly described, some passages feel overly verbose, which can slow down the pace of the narrative. For example, the sentence \"Behind her, the waves of the outer sea crashed against the rocky shores of her island, while before her, the calm waters of the lagoon shimmered like a sheet of silver\" could be condensed to improve flow.\n",
            "* The transition between Kala's introspection and her interaction with Little Akira feels abrupt. Consider adding more connecting tissue to smooth out the narrative.\n",
            "* Lyra, Kala's loyal companion, is introduced somewhat abruptly. Consider adding more context or backstory to make her character more fleshed out.\n",
            "* The sentence \"She knew only that she had been born of the sea, forged in the depths of the ocean, and that her power was tied to the tides and the waves\" feels like an info dump. Consider integrating this information more organically throughout the narrative.\n",
            "\n",
            "**Direct Textual Corrections or Rewrites:**\n",
            "\n",
            "* Instead of \"the whispers of the sea goddesses still lingered in the wind,\" consider \"the whispers of the sea goddesses whispered secrets on the wind\" to create a more immersive and sensory experience.\n",
            "* Replace \"her pulse pounding with excitement\" with \"her heart racing with anticipation\" to create a more nuanced emotional response.\n",
            "* Consider rephrasing \"The battle ahead would be fierce, but she was ready, for she was the sea witch, the guardian of the Shores of Dawn\" to \"As the guardian of the Shores of Dawn, Kala stood ready to face the impending battle, her determination burning brighter than the sun\" to create a more cohesive and powerful conclusion to the chapter.\n",
            "\n",
            "By addressing these areas, the rewritten narrative can further refine its tone, pacing, and character development, ultimately enhancing the reader's experience.\n",
            "----------------------------------------\n",
            "You may now edit the content. Leave blank to accept as-is.\n",
            "Enter your edited content (or press Enter to keep as-is):\n",
            "\n",
            "\n",
            "[HITL: Final Edited Version]\n",
            "----------------------------------------\n",
            "Here is the edited version of \"The Shores of Dawn\":\n",
            "\n",
            "**The Shores of Dawn**\n",
            "\n",
            "CHAPTER I: The Sea Witch's Isle\n",
            "\n",
            "Kala stood on the windswept promontory, her emerald eyes fixed on the southern horizon. The outer sea crashed against the rocky shores of her island, while the calm waters of the lagoon shimmered like a sheet of silver before her. This was her domain, a realm of ancient magic, where the whispers of the sea goddesses whispered secrets on the wind.\n",
            "\n",
            "As she gazed out at the lagoon, her thoughts turned to the people who called this place home. The women, children, and youths of the island were all hers to protect, and she had sworn to defend them against the darkness that lurked beyond the horizon. Her people were skilled in the arcane arts, and their canoes were crafted with magic and precision, but they were no match for the ruthless pirates who roamed the seas.\n",
            "\n",
            "Little Akira, the son of the island's elder, approached her, his eyes shining with curiosity. \"Kala, who are you?\" he asked, his voice barely above a whisper. Kala's gaze softened as she looked down at the child, remembering the day she had arrived on the island, a refugee from a world of darkness and fire. She had been drawn to this place by the whispers of the sea goddesses, who had chosen her to be their champion. And now, as she stood on the promontory, she felt the weight of her responsibility, the burden of protecting her people from the forces of evil that sought to destroy them.\n",
            "\n",
            "Akira's question still lingered in the air, but Kala knew she could not answer it, not yet. The secrets of her past were shrouded in mystery, even to herself. She knew only that her power was tied to the tides and the waves, and that she had been forged in the depths of the ocean.\n",
            "\n",
            "As she turned to face the lagoon, her eyes met those of her loyal companion, Lyra, who stood on the beach, her gaze fixed on the northern horizon. Together, they had faced the darkness before, and together they would face it again, when the time came. Lyra, a skilled warrior and Kala's closest friend, had been by her side since the early days of her arrival on the island.\n",
            "\n",
            "The vision of the pirates' stronghold, a fortress of black stone and twisted iron, rose before her eyes, a reminder of the threat that lurked beyond the horizon. They would come, she knew, driven by their lust for power and their disregard for the ancient magic that sustained this island. But Kala was ready, her determination burning brighter than the sun.\n",
            "\n",
            "In the distance, a canoe approached, its paddles dipping rhythmically in the water. It was the canoe she had sent for the master craftsmen, who would help her build a fleet of war canoes, strong enough to defend against the pirates' attack. As the canoe drew closer, Kala's heart racing with anticipation, she felt the weight of her responsibility, the burden of protecting her people, and the power of the sea coursing through her veins.\n",
            "\n",
            "As the guardian of the Shores of Dawn, Kala stood ready to face the impending battle, her determination burning brighter than the sun.\n",
            "----------------------------------------\n",
            "You may now edit the content. Leave blank to accept as-is.\n",
            "Enter your edited content (or press Enter to keep as-is):\n",
            "\n",
            "\n",
            "Workflow complete.\n",
            "\n",
            "Final Edited Book:\n",
            "\n",
            "Here is the edited version of \"The Shores of Dawn\":\n",
            "\n",
            "**The Shores of Dawn**\n",
            "\n",
            "CHAPTER I: The Sea Witch's Isle\n",
            "\n",
            "Kala stood on the windswept promontory, her emerald eyes fixed on the southern horizon. The outer sea crashed against the rocky shores of her island, while the calm waters of the lagoon shimmered like a sheet of silver before her. This was her domain, a realm of ancient magic, where the whispers of the sea goddesses whispered secrets on the wind.\n",
            "\n",
            "As she gazed out at the lagoon, her thoughts turned to the people who called this place home. The women, children, and youths of the island were all hers to protect, and she had sworn to defend them against the darkness that lurked beyond the horizon. Her people were skilled in the arcane arts, and their canoes were crafted with magic and precision, but they were no match for the ruthless pirates who roamed the seas.\n",
            "\n",
            "Little Akira, the son of the island's elder, approached her, his eyes shining with curiosity. \"Kala, who are you?\" he asked, his voice barely above a whisper. Kala's gaze softened as she looked down at the child, remembering the day she had arrived on the island, a refugee from a world of darkness and fire. She had been drawn to this place by the whispers of the sea goddesses, who had chosen her to be their champion. And now, as she stood on the promontory, she felt the weight of her responsibility, the burden of protecting her people from the forces of evil that sought to destroy them.\n",
            "\n",
            "Akira's question still lingered in the air, but Kala knew she could not answer it, not yet. The secrets of her past were shrouded in mystery, even to herself. She knew only that her power was tied to the tides and the waves, and that she had been forged in the depths of the ocean.\n",
            "\n",
            "As she turned to face the lagoon, her eyes met those of her loyal companion, Lyra, who stood on the beach, her gaze fixed on the northern horizon. Together, they had faced the darkness before, and together they would face it again, when the time came. Lyra, a skilled warrior and Kala's closest friend, had been by her side since the early days of her arrival on the island.\n",
            "\n",
            "The vision of the pirates' stronghold, a fortress of black stone and twisted iron, rose before her eyes, a reminder of the threat that lurked beyond the horizon. They would come, she knew, driven by their lust for power and their disregard for the ancient magic that sustained this island. But Kala was ready, her determination burning brighter than the sun.\n",
            "\n",
            "In the distance, a canoe approached, its paddles dipping rhythmically in the water. It was the canoe she had sent for the master craftsmen, who would help her build a fleet of war canoes, strong enough to defend against the pirates' attack. As the canoe drew closer, Kala's heart racing with anticipation, she felt the weight of her responsibility, the burden of protecting her people, and the power of the sea coursing through her veins.\n",
            "\n",
            "As the guardian of the Shores of Dawn, Kala stood ready to face the impending battle, her determination burning brighter than the sun.\n"
          ]
        }
      ],
      "source": [
        "\n",
        "final_state = graph.invoke({\n",
        "    \"book\": content\n",
        "})\n",
        "\n",
        "print(\"\\nWorkflow complete.\")\n",
        "print(\"\\nFinal Edited Book:\\n\")\n",
        "print(final_state[\"final\"])\n"
      ]
    },
    {
      "cell_type": "code",
      "execution_count": null,
      "metadata": {
        "colab": {
          "base_uri": "https://localhost:8080/"
        },
        "collapsed": true,
        "id": "h2_Tl1RVU9U9",
        "outputId": "1122fe6f-e381-4c8d-d9bd-673e7325cab8"
      },
      "outputs": [
        {
          "name": "stdout",
          "output_type": "stream",
          "text": [
            "\n",
            "--- Item 1 ---\n",
            "ID:         v_20250628_044804\n",
            "Document:   \"The Gates of Morning\" CHAPTER I THE CANOE BUILDER D\n",
            "ICK standing on a ledge of coral cast his eyes to the South. Behind him the breakers of the outer sea thundered and the spindrift scattered on the wind; before him stretched an ocean calm as a lake, infinite, blue, and flown about by the fishing gulls—the lagoon of Karolin. Clipped by its forty-mile ring of coral this great pond was a sea in itself, a sea of storm in heavy winds, a lake of azure, in light airs—and it was his—he who had landed here only yesterday. Women, children, youths, all the tribe to be seen busy along the beach in the blazing sun, fishing with nets, playing their games or working on the paraka patches, all were his people. His were the canoes drawn up on the sand and his the empty houses where the war canoes had once rested on their rollers. Then as he cast his eyes from the lagoon to the canoe houses his brow contracted, and, turning his back to the lagoon he stood facing the breakers on the outer beach and the northern sea. Away there, beyond the sea line, invisible, lay Palm Tree, an island beautiful as a dream, yet swarming with devils. Little Tari the son of Le Taioi the net maker, sitting on the coral close by, looked up at him. Tari knew little of life, but he knew that all the men of Karolin swept away by war had left the women and the boys and the children like himself defenceless and without a man or leader. Then, yesterday, from the northern sea in a strange boat and with Katafa, the girl who had been blown to sea years ago when out fishing, this strange new figure had come, sent by the gods, so the women said, to be their chief and ruler. The child knew nothing of whom the gods might be nor did he care, alone now with this wonderful new person, and out of earshot of his mother, he put the question direct with all the simplicity of childhood. “Taori,” said little Tari, “who are you?” (é kamina tai) Could Dick have answered, would the child have understood the strange words of the strange story Dick might have told him? “Tari, I come of people beyond the world you know. My name is Dick Lestrange, and when I was smaller than you, Tari, I was left alone with an old sailor man on that island you call Marua (Palm Tree), which lies beyond sight fifty miles to the north. There we lived and there I grew to be a boy and Kearney, that was his name, taught me to fish and spear fish, and he made for me things to play with, little ships unlike the canoes of the islands. And then, Tari, one day long ago came Katafa, the girl who was blown away from here in a storm. She lived with us till Kearney died and then we two were alone. She taught me her language, which is the language of Karolin. She named me Taori; we loved one another and might have lived for ever at Marua had not a great ship come there filled with bad men, men from the eastern islands of Melanesia. They came to cut the trees. Then they rose and killed the white men with them and burned the ship and in our boat we escaped from them, taking with us everything we loved, even the little ships, and steering for Karolin, we came, led by the lagoon light in the sky.\" But he could not tell Tari this, or at least all of it, for the very name of Dick had passed from his memory, that and the language he had spoken as a child; Kearney, the sailor who had brought him up, was all but forgotten, all but lost sight of in the luminous haze that was his past. The past, for men long shipwrecked and alone, becomes blurred and fogged, for Dick it began only with the coming of Katafa to Marua, behind and beyond that all was forgotten as though consumed in the great blaze of tropic light that bathed the island and the sea, the storms that swept the coconut groves, the mists of the rainy seasons. Kearney would have been quite forgotten but for the little ships he had made as playthings for the boy—who was now a man. He looked down at the questioning child. “I am Taori, Tari tatu, why do you ask?” “I do not know,” said the child. “I ask as I breathe but no big folk—madyana—will ever answer the questions of Tari— Ai, the fish!” His facile mind had already dropped the subject, attracted by the cries of some children, hauling in a net, and he rose and trotted away. Dick turned his gaze again to the north. The question of the child had stirred his mind and he saw again the schooner that had put in to Palm Tree only to be burned by the Melanesian hands, he saw again Katafa and himself as they made their escape in the old dinghy that Kearney had taught him to handle as a boy. He saw their landing on this beach, yesterday, and the women and children swarming round him, he the man whom they considered sent by the gods to be their chief and leader. Then as he gazed towards the north the memory of the men from whom he had escaped with the girl stained the beauty of sea and sky. There was no immediate fear of the men who had taken possession of Palm Tree; the men of Palm Tree had no canoes, but they would build canoes—surely they would build canoes, and as surely they would see the far mirror blaze of Karolin lagoon in the sky, just as he had seen it, and they would come. It might be a very long time yet, but they would come. Dick was an all but blook, a kanaka, a savage, and yet the white man was there. He could think forward, he could think round a subject and he could imagine. That was why he had sent a canoe that morning across to the southern beach to fetch Aioma, Palia and Tafata, three old men, too old for war, but expert canoe-builders, that was why when gazing at the tribe in full congregation, his eyes had brightened to the fact that nearly a hundred of the youths were ripening to war age, but under all, lighting and animating his mind, raising daring to eagle heights, lay his passion for Katafa, his other self more dear to him than self, threatened, ever so vaguely, yet still threatened. War canoes! Did he intend fighting any invaders in the lagoon or as they drew towards shore, or did he vaguely intend to be the attacker, destroying the danger at its source before it could develop? Who knows? A hand fell upon his shoulder and turning, he found himself face to face with Katafa, a lock of her dark hair escaped from the thread of elastic vine that bound it, blew right back on the breeze like an eagle’s feather, and her eyes, luminous and dark instead of meeting his, were fixed towards the point where he had been gazing—the due-north sea line. “Look!” said Katafa. At big intervals and in certain conditions of weather Palm Tree, though far behind the sea line, became visible from Karolin through mirage. Last evening they had seen it and now again it was beginning to live, to bloom, to come to life, a mysterious stain low down in the southern sky, a dull spot in the sea dazzle, that deepened by degrees and hardened till as if sketched in by some unseen painter, the island showed beautiful as a dream, diaphanous, yet vivid. With her hand upon his shoulder they stood without speaking, their minds untutored, knowing nothing of mirage, their eyes fixed on the place from which they had escaped and which was rising now so strangely beyond the far sea line as if to gaze at them. They saw again the horde of savages on the beach, figures monstrous as the forms in a nightmare, they felt again the wind that filled the sail as the dinghy raced for safety and the open sea, and again they heard the yells of the Melanesians mad with rum stolen from the schooner they had brought in, and which they had burnt. And there, there before them lay the scene of the Tragedy, that lovely picture which showed nothing of the demons that still in habited it. Then as Dick gazed on this loveliness, which was yet a threat and a warning, his nostrils expanded and his eyes grew dark with hate. They had threatened him—that was nothing, they had threatened Katafa, that was everything—and they still threatened her. Some day they would come. The vision of Palm Tree seemed to repeat what instinct told him. They would build canoes and seeing the lagoon mirror-light in the sky, they would come. They had no women, those men, and here were women, and instinct half whispered to him that just as he had been drawn to Katafa, so would these men be drawn to the women of Karolin. They would scan the horizon in search of some island whose tribe might be raided of its women and seeing the lagoon light they would come. Ah, if he had known, danger lay not only to the north, but wherever greed or desire or hatred might roam on that azure sea, not only amongst savages, but the wolves of civilization. To Dick there was no world beyond the world of water that ringed the two islands; no Europe, no America, no history but the history of his short life as the life of Katafa, and yet even in that life, short as it was, he had learned to dread men and he had envisaged the foundation of all history—man’s instinct for war, rapine and destruction. Then gradually the vision of Palm Tree began to fade and pass, suddenly it vanished like a light blown out and as they turned from the sea to the lagoon, Katafa pointed across the lagoon water to a canoe approaching from the southern beach. It was the canoe Dick has sent for the canoe builders and, leaving the coral, they came down to the white sand of the inner beach to meet it.\n",
            "Metadata:\n",
            "{'generator_agent': 'spin',\n",
            " 'length': 3503,\n",
            " 'quality_tags': 'engaging,descriptive,adventurous,formal',\n",
            " 'score': 8,\n",
            " 'source': 'wikisource',\n",
            " 'timestamp': '2025-06-28T04:48:04.446972',\n",
            " 'version': 'spinned'}\n",
            "------------------------------------------------------------\n",
            "\n",
            "--- Item 2 ---\n",
            "ID:         v_20250628_044832\n",
            "Document:   \"The Gates of Morning\" CHAPTER I THE CANOE BUILDER D\n",
            "ICK standing on a ledge of coral cast his eyes to the South. Behind him the breakers of the outer sea thundered and the spindrift scattered on the wind; before him stretched an ocean calm as a lake, infinite, blue, and flown about by the fishing gulls—the lagoon of Karolin. Clipped by its forty-mile ring of coral this great pond was a sea in itself, a sea of storm in heavy winds, a lake of azure, in light airs—and it was his—he who had landed here only yesterday. Women, children, youths, all the tribe to be seen busy along the beach in the blazing sun, fishing with nets, playing their games or working on the paraka patches, all were his people. His were the canoes drawn up on the sand and his the empty houses where the war canoes had once rested on their rollers. Then as he cast his eyes from the lagoon to the canoe houses his brow contracted, and, turning his back to the lagoon he stood facing the breakers on the outer beach and the northern sea. Away there, beyond the sea line, invisible, lay Palm Tree, an island beautiful as a dream, yet swarming with devils. Little Tari the son of Le Taioi the net maker, sitting on the coral close by, looked up at him. Tari knew little of life, but he knew that all the men of Karolin swept away by war had left the women and the boys and the children like himself defenceless and without a man or leader. Then, yesterday, from the northern sea in a strange boat and with Katafa, the girl who had been blown to sea years ago when out fishing, this strange new figure had come, sent by the gods, so the women said, to be their chief and ruler. The child knew nothing of whom the gods might be nor did he care, alone now with this wonderful new person, and out of earshot of his mother, he put the question direct with all the simplicity of childhood. “Taori,” said little Tari, “who are you?” (é kamina tai) Could Dick have answered, would the child have understood the strange words of the strange story Dick might have told him? “Tari, I come of people beyond the world you know. My name is Dick Lestrange, and when I was smaller than you, Tari, I was left alone with an old sailor man on that island you call Marua (Palm Tree), which lies beyond sight fifty miles to the north. There we lived and there I grew to be a boy and Kearney, that was his name, taught me to fish and spear fish, and he made for me things to play with, little ships unlike the canoes of the islands. And then, Tari, one day long ago came Katafa, the girl who was blown away from here in a storm. She lived with us till Kearney died and then we two were alone. She taught me her language, which is the language of Karolin. She named me Taori; we loved one another and might have lived for ever at Marua had not a great ship come there filled with bad men, men from the eastern islands of Melanesia. They came to cut the trees. Then they rose and killed the white men with them and burned the ship and in our boat we escaped from them, taking with us everything we loved, even the little ships, and steering for Karolin, we came, led by the lagoon light in the sky.\" But he could not tell Tari this, or at least all of it, for the very name of Dick had passed from his memory, that and the language he had spoken as a child; Kearney, the sailor who had brought him up, was all but forgotten, all but lost sight of in the luminous haze that was his past. The past, for men long shipwrecked and alone, becomes blurred and fogged, for Dick it began only with the coming of Katafa to Marua, behind and beyond that all was forgotten as though consumed in the great blaze of tropic light that bathed the island and the sea, the storms that swept the coconut groves, the mists of the rainy seasons. Kearney would have been quite forgotten but for the little ships he had made as playthings for the boy—who was now a man. He looked down at the questioning child. “I am Taori, Tari tatu, why do you ask?” “I do not know,” said the child. “I ask as I breathe but no big folk—madyana—will ever answer the questions of Tari— Ai, the fish!” His facile mind had already dropped the subject, attracted by the cries of some children, hauling in a net, and he rose and trotted away. Dick turned his gaze again to the north. The question of the child had stirred his mind and he saw again the schooner that had put in to Palm Tree only to be burned by the Melanesian hands, he saw again Katafa and himself as they made their escape in the old dinghy that Kearney had taught him to handle as a boy. He saw their landing on this beach, yesterday, and the women and children swarming round him, he the man whom they considered sent by the gods to be their chief and leader. Then as he gazed towards the north the memory of the men from whom he had escaped with the girl stained the beauty of sea and sky. There was no immediate fear of the men who had taken possession of Palm Tree; the men of Palm Tree had no canoes, but they would build canoes—surely they would build canoes, and as surely they would see the far mirror blaze of Karolin lagoon in the sky, just as he had seen it, and they would come. It might be a very long time yet, but they would come. Dick was an all but blook, a kanaka, a savage, and yet the white man was there. He could think forward, he could think round a subject and he could imagine. That was why he had sent a canoe that morning across to the southern beach to fetch Aioma, Palia and Tafata, three old men, too old for war, but expert canoe-builders, that was why when gazing at the tribe in full congregation, his eyes had brightened to the fact that nearly a hundred of the youths were ripening to war age, but under all, lighting and animating his mind, raising daring to eagle heights, lay his passion for Katafa, his other self more dear to him than self, threatened, ever so vaguely, yet still threatened. War canoes! Did he intend fighting any invaders in the lagoon or as they drew towards shore, or did he vaguely intend to be the attacker, destroying the danger at its source before it could develop? Who knows? A hand fell upon his shoulder and turning, he found himself face to face with Katafa, a lock of her dark hair escaped from the thread of elastic vine that bound it, blew right back on the breeze like an eagle’s feather, and her eyes, luminous and dark instead of meeting his, were fixed towards the point where he had been gazing—the due-north sea line. “Look!” said Katafa. At big intervals and in certain conditions of weather Palm Tree, though far behind the sea line, became visible from Karolin through mirage. Last evening they had seen it and now again it was beginning to live, to bloom, to come to life, a mysterious stain low down in the southern sky, a dull spot in the sea dazzle, that deepened by degrees and hardened till as if sketched in by some unseen painter, the island showed beautiful as a dream, diaphanous, yet vivid. With her hand upon his shoulder they stood without speaking, their minds untutored, knowing nothing of mirage, their eyes fixed on the place from which they had escaped and which was rising now so strangely beyond the far sea line as if to gaze at them. They saw again the horde of savages on the beach, figures monstrous as the forms in a nightmare, they felt again the wind that filled the sail as the dinghy raced for safety and the open sea, and again they heard the yells of the Melanesians mad with rum stolen from the schooner they had brought in, and which they had burnt. And there, there before them lay the scene of the Tragedy, that lovely picture which showed nothing of the demons that still in habited it. Then as Dick gazed on this loveliness, which was yet a threat and a warning, his nostrils expanded and his eyes grew dark with hate. They had threatened him—that was nothing, they had threatened Katafa, that was everything—and they still threatened her. Some day they would come. The vision of Palm Tree seemed to repeat what instinct told him. They would build canoes and seeing the lagoon mirror-light in the sky, they would come. They had no women, those men, and here were women, and instinct half whispered to him that just as he had been drawn to Katafa, so would these men be drawn to the women of Karolin. They would scan the horizon in search of some island whose tribe might be raided of its women and seeing the lagoon light they would come. Ah, if he had known, danger lay not only to the north, but wherever greed or desire or hatred might roam on that azure sea, not only amongst savages, but the wolves of civilization. To Dick there was no world beyond the world of water that ringed the two islands; no Europe, no America, no history but the history of his short life as the life of Katafa, and yet even in that life, short as it was, he had learned to dread men and he had envisaged the foundation of all history—man’s instinct for war, rapine and destruction. Then gradually the vision of Palm Tree began to fade and pass, suddenly it vanished like a light blown out and as they turned from the sea to the lagoon, Katafa pointed across the lagoon water to a canoe approaching from the southern beach. It was the canoe Dick has sent for the canoe builders and, leaving the coral, they came down to the white sand of the inner beach to meet it.\n",
            "Metadata:\n",
            "{'generator_agent': 'editor',\n",
            " 'length': 3317,\n",
            " 'quality_tags': 'Engaging, Vivid, Informative, Epic',\n",
            " 'score': 8,\n",
            " 'source': 'wikisource',\n",
            " 'timestamp': '2025-06-28T04:48:32.456298',\n",
            " 'version': 'spinned_final'}\n",
            "------------------------------------------------------------\n",
            "\n",
            "--- Item 3 ---\n",
            "ID:         v_20250628_044922\n",
            "Document:   \"The Gates of Morning\" CHAPTER I THE CANOE BUILDER D\n",
            "ICK standing on a ledge of coral cast his eyes to the South. Behind him the breakers of the outer sea thundered and the spindrift scattered on the wind; before him stretched an ocean calm as a lake, infinite, blue, and flown about by the fishing gulls—the lagoon of Karolin. Clipped by its forty-mile ring of coral this great pond was a sea in itself, a sea of storm in heavy winds, a lake of azure, in light airs—and it was his—he who had landed here only yesterday. Women, children, youths, all the tribe to be seen busy along the beach in the blazing sun, fishing with nets, playing their games or working on the paraka patches, all were his people. His were the canoes drawn up on the sand and his the empty houses where the war canoes had once rested on their rollers. Then as he cast his eyes from the lagoon to the canoe houses his brow contracted, and, turning his back to the lagoon he stood facing the breakers on the outer beach and the northern sea. Away there, beyond the sea line, invisible, lay Palm Tree, an island beautiful as a dream, yet swarming with devils. Little Tari the son of Le Taioi the net maker, sitting on the coral close by, looked up at him. Tari knew little of life, but he knew that all the men of Karolin swept away by war had left the women and the boys and the children like himself defenceless and without a man or leader. Then, yesterday, from the northern sea in a strange boat and with Katafa, the girl who had been blown to sea years ago when out fishing, this strange new figure had come, sent by the gods, so the women said, to be their chief and ruler. The child knew nothing of whom the gods might be nor did he care, alone now with this wonderful new person, and out of earshot of his mother, he put the question direct with all the simplicity of childhood. “Taori,” said little Tari, “who are you?” (é kamina tai) Could Dick have answered, would the child have understood the strange words of the strange story Dick might have told him? “Tari, I come of people beyond the world you know. My name is Dick Lestrange, and when I was smaller than you, Tari, I was left alone with an old sailor man on that island you call Marua (Palm Tree), which lies beyond sight fifty miles to the north. There we lived and there I grew to be a boy and Kearney, that was his name, taught me to fish and spear fish, and he made for me things to play with, little ships unlike the canoes of the islands. And then, Tari, one day long ago came Katafa, the girl who was blown away from here in a storm. She lived with us till Kearney died and then we two were alone. She taught me her language, which is the language of Karolin. She named me Taori; we loved one another and might have lived for ever at Marua had not a great ship come there filled with bad men, men from the eastern islands of Melanesia. They came to cut the trees. Then they rose and killed the white men with them and burned the ship and in our boat we escaped from them, taking with us everything we loved, even the little ships, and steering for Karolin, we came, led by the lagoon light in the sky.\" But he could not tell Tari this, or at least all of it, for the very name of Dick had passed from his memory, that and the language he had spoken as a child; Kearney, the sailor who had brought him up, was all but forgotten, all but lost sight of in the luminous haze that was his past. The past, for men long shipwrecked and alone, becomes blurred and fogged, for Dick it began only with the coming of Katafa to Marua, behind and beyond that all was forgotten as though consumed in the great blaze of tropic light that bathed the island and the sea, the storms that swept the coconut groves, the mists of the rainy seasons. Kearney would have been quite forgotten but for the little ships he had made as playthings for the boy—who was now a man. He looked down at the questioning child. “I am Taori, Tari tatu, why do you ask?” “I do not know,” said the child. “I ask as I breathe but no big folk—madyana—will ever answer the questions of Tari— Ai, the fish!” His facile mind had already dropped the subject, attracted by the cries of some children, hauling in a net, and he rose and trotted away. Dick turned his gaze again to the north. The question of the child had stirred his mind and he saw again the schooner that had put in to Palm Tree only to be burned by the Melanesian hands, he saw again Katafa and himself as they made their escape in the old dinghy that Kearney had taught him to handle as a boy. He saw their landing on this beach, yesterday, and the women and children swarming round him, he the man whom they considered sent by the gods to be their chief and leader. Then as he gazed towards the north the memory of the men from whom he had escaped with the girl stained the beauty of sea and sky. There was no immediate fear of the men who had taken possession of Palm Tree; the men of Palm Tree had no canoes, but they would build canoes—surely they would build canoes, and as surely they would see the far mirror blaze of Karolin lagoon in the sky, just as he had seen it, and they would come. It might be a very long time yet, but they would come. Dick was an all but blook, a kanaka, a savage, and yet the white man was there. He could think forward, he could think round a subject and he could imagine. That was why he had sent a canoe that morning across to the southern beach to fetch Aioma, Palia and Tafata, three old men, too old for war, but expert canoe-builders, that was why when gazing at the tribe in full congregation, his eyes had brightened to the fact that nearly a hundred of the youths were ripening to war age, but under all, lighting and animating his mind, raising daring to eagle heights, lay his passion for Katafa, his other self more dear to him than self, threatened, ever so vaguely, yet still threatened. War canoes! Did he intend fighting any invaders in the lagoon or as they drew towards shore, or did he vaguely intend to be the attacker, destroying the danger at its source before it could develop? Who knows? A hand fell upon his shoulder and turning, he found himself face to face with Katafa, a lock of her dark hair escaped from the thread of elastic vine that bound it, blew right back on the breeze like an eagle’s feather, and her eyes, luminous and dark instead of meeting his, were fixed towards the point where he had been gazing—the due-north sea line. “Look!” said Katafa. At big intervals and in certain conditions of weather Palm Tree, though far behind the sea line, became visible from Karolin through mirage. Last evening they had seen it and now again it was beginning to live, to bloom, to come to life, a mysterious stain low down in the southern sky, a dull spot in the sea dazzle, that deepened by degrees and hardened till as if sketched in by some unseen painter, the island showed beautiful as a dream, diaphanous, yet vivid. With her hand upon his shoulder they stood without speaking, their minds untutored, knowing nothing of mirage, their eyes fixed on the place from which they had escaped and which was rising now so strangely beyond the far sea line as if to gaze at them. They saw again the horde of savages on the beach, figures monstrous as the forms in a nightmare, they felt again the wind that filled the sail as the dinghy raced for safety and the open sea, and again they heard the yells of the Melanesians mad with rum stolen from the schooner they had brought in, and which they had burnt. And there, there before them lay the scene of the Tragedy, that lovely picture which showed nothing of the demons that still in habited it. Then as Dick gazed on this loveliness, which was yet a threat and a warning, his nostrils expanded and his eyes grew dark with hate. They had threatened him—that was nothing, they had threatened Katafa, that was everything—and they still threatened her. Some day they would come. The vision of Palm Tree seemed to repeat what instinct told him. They would build canoes and seeing the lagoon mirror-light in the sky, they would come. They had no women, those men, and here were women, and instinct half whispered to him that just as he had been drawn to Katafa, so would these men be drawn to the women of Karolin. They would scan the horizon in search of some island whose tribe might be raided of its women and seeing the lagoon light they would come. Ah, if he had known, danger lay not only to the north, but wherever greed or desire or hatred might roam on that azure sea, not only amongst savages, but the wolves of civilization. To Dick there was no world beyond the world of water that ringed the two islands; no Europe, no America, no history but the history of his short life as the life of Katafa, and yet even in that life, short as it was, he had learned to dread men and he had envisaged the foundation of all history—man’s instinct for war, rapine and destruction. Then gradually the vision of Palm Tree began to fade and pass, suddenly it vanished like a light blown out and as they turned from the sea to the lagoon, Katafa pointed across the lagoon water to a canoe approaching from the southern beach. It was the canoe Dick has sent for the canoe builders and, leaving the coral, they came down to the white sand of the inner beach to meet it.\n",
            "Metadata:\n",
            "{'generator_agent': 'spin',\n",
            " 'length': 3283,\n",
            " 'quality_tags': 'engaging,clear,informative,fantasy',\n",
            " 'score': 8,\n",
            " 'source': 'wikisource',\n",
            " 'timestamp': '2025-06-28T04:49:22.933333',\n",
            " 'version': 'spinned'}\n",
            "------------------------------------------------------------\n",
            "\n",
            "--- Item 4 ---\n",
            "ID:         v_20250628_045000\n",
            "Document:   \"The Gates of Morning\" CHAPTER I THE CANOE BUILDER D\n",
            "ICK standing on a ledge of coral cast his eyes to the South. Behind him the breakers of the outer sea thundered and the spindrift scattered on the wind; before him stretched an ocean calm as a lake, infinite, blue, and flown about by the fishing gulls—the lagoon of Karolin. Clipped by its forty-mile ring of coral this great pond was a sea in itself, a sea of storm in heavy winds, a lake of azure, in light airs—and it was his—he who had landed here only yesterday. Women, children, youths, all the tribe to be seen busy along the beach in the blazing sun, fishing with nets, playing their games or working on the paraka patches, all were his people. His were the canoes drawn up on the sand and his the empty houses where the war canoes had once rested on their rollers. Then as he cast his eyes from the lagoon to the canoe houses his brow contracted, and, turning his back to the lagoon he stood facing the breakers on the outer beach and the northern sea. Away there, beyond the sea line, invisible, lay Palm Tree, an island beautiful as a dream, yet swarming with devils. Little Tari the son of Le Taioi the net maker, sitting on the coral close by, looked up at him. Tari knew little of life, but he knew that all the men of Karolin swept away by war had left the women and the boys and the children like himself defenceless and without a man or leader. Then, yesterday, from the northern sea in a strange boat and with Katafa, the girl who had been blown to sea years ago when out fishing, this strange new figure had come, sent by the gods, so the women said, to be their chief and ruler. The child knew nothing of whom the gods might be nor did he care, alone now with this wonderful new person, and out of earshot of his mother, he put the question direct with all the simplicity of childhood. “Taori,” said little Tari, “who are you?” (é kamina tai) Could Dick have answered, would the child have understood the strange words of the strange story Dick might have told him? “Tari, I come of people beyond the world you know. My name is Dick Lestrange, and when I was smaller than you, Tari, I was left alone with an old sailor man on that island you call Marua (Palm Tree), which lies beyond sight fifty miles to the north. There we lived and there I grew to be a boy and Kearney, that was his name, taught me to fish and spear fish, and he made for me things to play with, little ships unlike the canoes of the islands. And then, Tari, one day long ago came Katafa, the girl who was blown away from here in a storm. She lived with us till Kearney died and then we two were alone. She taught me her language, which is the language of Karolin. She named me Taori; we loved one another and might have lived for ever at Marua had not a great ship come there filled with bad men, men from the eastern islands of Melanesia. They came to cut the trees. Then they rose and killed the white men with them and burned the ship and in our boat we escaped from them, taking with us everything we loved, even the little ships, and steering for Karolin, we came, led by the lagoon light in the sky.\" But he could not tell Tari this, or at least all of it, for the very name of Dick had passed from his memory, that and the language he had spoken as a child; Kearney, the sailor who had brought him up, was all but forgotten, all but lost sight of in the luminous haze that was his past. The past, for men long shipwrecked and alone, becomes blurred and fogged, for Dick it began only with the coming of Katafa to Marua, behind and beyond that all was forgotten as though consumed in the great blaze of tropic light that bathed the island and the sea, the storms that swept the coconut groves, the mists of the rainy seasons. Kearney would have been quite forgotten but for the little ships he had made as playthings for the boy—who was now a man. He looked down at the questioning child. “I am Taori, Tari tatu, why do you ask?” “I do not know,” said the child. “I ask as I breathe but no big folk—madyana—will ever answer the questions of Tari— Ai, the fish!” His facile mind had already dropped the subject, attracted by the cries of some children, hauling in a net, and he rose and trotted away. Dick turned his gaze again to the north. The question of the child had stirred his mind and he saw again the schooner that had put in to Palm Tree only to be burned by the Melanesian hands, he saw again Katafa and himself as they made their escape in the old dinghy that Kearney had taught him to handle as a boy. He saw their landing on this beach, yesterday, and the women and children swarming round him, he the man whom they considered sent by the gods to be their chief and leader. Then as he gazed towards the north the memory of the men from whom he had escaped with the girl stained the beauty of sea and sky. There was no immediate fear of the men who had taken possession of Palm Tree; the men of Palm Tree had no canoes, but they would build canoes—surely they would build canoes, and as surely they would see the far mirror blaze of Karolin lagoon in the sky, just as he had seen it, and they would come. It might be a very long time yet, but they would come. Dick was an all but blook, a kanaka, a savage, and yet the white man was there. He could think forward, he could think round a subject and he could imagine. That was why he had sent a canoe that morning across to the southern beach to fetch Aioma, Palia and Tafata, three old men, too old for war, but expert canoe-builders, that was why when gazing at the tribe in full congregation, his eyes had brightened to the fact that nearly a hundred of the youths were ripening to war age, but under all, lighting and animating his mind, raising daring to eagle heights, lay his passion for Katafa, his other self more dear to him than self, threatened, ever so vaguely, yet still threatened. War canoes! Did he intend fighting any invaders in the lagoon or as they drew towards shore, or did he vaguely intend to be the attacker, destroying the danger at its source before it could develop? Who knows? A hand fell upon his shoulder and turning, he found himself face to face with Katafa, a lock of her dark hair escaped from the thread of elastic vine that bound it, blew right back on the breeze like an eagle’s feather, and her eyes, luminous and dark instead of meeting his, were fixed towards the point where he had been gazing—the due-north sea line. “Look!” said Katafa. At big intervals and in certain conditions of weather Palm Tree, though far behind the sea line, became visible from Karolin through mirage. Last evening they had seen it and now again it was beginning to live, to bloom, to come to life, a mysterious stain low down in the southern sky, a dull spot in the sea dazzle, that deepened by degrees and hardened till as if sketched in by some unseen painter, the island showed beautiful as a dream, diaphanous, yet vivid. With her hand upon his shoulder they stood without speaking, their minds untutored, knowing nothing of mirage, their eyes fixed on the place from which they had escaped and which was rising now so strangely beyond the far sea line as if to gaze at them. They saw again the horde of savages on the beach, figures monstrous as the forms in a nightmare, they felt again the wind that filled the sail as the dinghy raced for safety and the open sea, and again they heard the yells of the Melanesians mad with rum stolen from the schooner they had brought in, and which they had burnt. And there, there before them lay the scene of the Tragedy, that lovely picture which showed nothing of the demons that still in habited it. Then as Dick gazed on this loveliness, which was yet a threat and a warning, his nostrils expanded and his eyes grew dark with hate. They had threatened him—that was nothing, they had threatened Katafa, that was everything—and they still threatened her. Some day they would come. The vision of Palm Tree seemed to repeat what instinct told him. They would build canoes and seeing the lagoon mirror-light in the sky, they would come. They had no women, those men, and here were women, and instinct half whispered to him that just as he had been drawn to Katafa, so would these men be drawn to the women of Karolin. They would scan the horizon in search of some island whose tribe might be raided of its women and seeing the lagoon light they would come. Ah, if he had known, danger lay not only to the north, but wherever greed or desire or hatred might roam on that azure sea, not only amongst savages, but the wolves of civilization. To Dick there was no world beyond the world of water that ringed the two islands; no Europe, no America, no history but the history of his short life as the life of Katafa, and yet even in that life, short as it was, he had learned to dread men and he had envisaged the foundation of all history—man’s instinct for war, rapine and destruction. Then gradually the vision of Palm Tree began to fade and pass, suddenly it vanished like a light blown out and as they turned from the sea to the lagoon, Katafa pointed across the lagoon water to a canoe approaching from the southern beach. It was the canoe Dick has sent for the canoe builders and, leaving the coral, they came down to the white sand of the inner beach to meet it.\n",
            "Metadata:\n",
            "{'generator_agent': 'editor',\n",
            " 'length': 3020,\n",
            " 'quality_tags': 'Engaging,Fantasy,Imaginative,Formal',\n",
            " 'score': 8,\n",
            " 'source': 'wikisource',\n",
            " 'timestamp': '2025-06-28T04:50:00.152850',\n",
            " 'version': 'spinned_final'}\n",
            "------------------------------------------------------------\n",
            "\n",
            "--- Item 5 ---\n",
            "ID:         v_20250628_045118\n",
            "Document:   \"The Gates of Morning\" CHAPTER I THE CANOE BUILDER D\n",
            "ICK standing on a ledge of coral cast his eyes to the South. Behind him the breakers of the outer sea thundered and the spindrift scattered on the wind; before him stretched an ocean calm as a lake, infinite, blue, and flown about by the fishing gulls—the lagoon of Karolin. Clipped by its forty-mile ring of coral this great pond was a sea in itself, a sea of storm in heavy winds, a lake of azure, in light airs—and it was his—he who had landed here only yesterday. Women, children, youths, all the tribe to be seen busy along the beach in the blazing sun, fishing with nets, playing their games or working on the paraka patches, all were his people. His were the canoes drawn up on the sand and his the empty houses where the war canoes had once rested on their rollers. Then as he cast his eyes from the lagoon to the canoe houses his brow contracted, and, turning his back to the lagoon he stood facing the breakers on the outer beach and the northern sea. Away there, beyond the sea line, invisible, lay Palm Tree, an island beautiful as a dream, yet swarming with devils. Little Tari the son of Le Taioi the net maker, sitting on the coral close by, looked up at him. Tari knew little of life, but he knew that all the men of Karolin swept away by war had left the women and the boys and the children like himself defenceless and without a man or leader. Then, yesterday, from the northern sea in a strange boat and with Katafa, the girl who had been blown to sea years ago when out fishing, this strange new figure had come, sent by the gods, so the women said, to be their chief and ruler. The child knew nothing of whom the gods might be nor did he care, alone now with this wonderful new person, and out of earshot of his mother, he put the question direct with all the simplicity of childhood. “Taori,” said little Tari, “who are you?” (é kamina tai) Could Dick have answered, would the child have understood the strange words of the strange story Dick might have told him? “Tari, I come of people beyond the world you know. My name is Dick Lestrange, and when I was smaller than you, Tari, I was left alone with an old sailor man on that island you call Marua (Palm Tree), which lies beyond sight fifty miles to the north. There we lived and there I grew to be a boy and Kearney, that was his name, taught me to fish and spear fish, and he made for me things to play with, little ships unlike the canoes of the islands. And then, Tari, one day long ago came Katafa, the girl who was blown away from here in a storm. She lived with us till Kearney died and then we two were alone. She taught me her language, which is the language of Karolin. She named me Taori; we loved one another and might have lived for ever at Marua had not a great ship come there filled with bad men, men from the eastern islands of Melanesia. They came to cut the trees. Then they rose and killed the white men with them and burned the ship and in our boat we escaped from them, taking with us everything we loved, even the little ships, and steering for Karolin, we came, led by the lagoon light in the sky.\" But he could not tell Tari this, or at least all of it, for the very name of Dick had passed from his memory, that and the language he had spoken as a child; Kearney, the sailor who had brought him up, was all but forgotten, all but lost sight of in the luminous haze that was his past. The past, for men long shipwrecked and alone, becomes blurred and fogged, for Dick it began only with the coming of Katafa to Marua, behind and beyond that all was forgotten as though consumed in the great blaze of tropic light that bathed the island and the sea, the storms that swept the coconut groves, the mists of the rainy seasons. Kearney would have been quite forgotten but for the little ships he had made as playthings for the boy—who was now a man. He looked down at the questioning child. “I am Taori, Tari tatu, why do you ask?” “I do not know,” said the child. “I ask as I breathe but no big folk—madyana—will ever answer the questions of Tari— Ai, the fish!” His facile mind had already dropped the subject, attracted by the cries of some children, hauling in a net, and he rose and trotted away. Dick turned his gaze again to the north. The question of the child had stirred his mind and he saw again the schooner that had put in to Palm Tree only to be burned by the Melanesian hands, he saw again Katafa and himself as they made their escape in the old dinghy that Kearney had taught him to handle as a boy. He saw their landing on this beach, yesterday, and the women and children swarming round him, he the man whom they considered sent by the gods to be their chief and leader. Then as he gazed towards the north the memory of the men from whom he had escaped with the girl stained the beauty of sea and sky. There was no immediate fear of the men who had taken possession of Palm Tree; the men of Palm Tree had no canoes, but they would build canoes—surely they would build canoes, and as surely they would see the far mirror blaze of Karolin lagoon in the sky, just as he had seen it, and they would come. It might be a very long time yet, but they would come. Dick was an all but blook, a kanaka, a savage, and yet the white man was there. He could think forward, he could think round a subject and he could imagine. That was why he had sent a canoe that morning across to the southern beach to fetch Aioma, Palia and Tafata, three old men, too old for war, but expert canoe-builders, that was why when gazing at the tribe in full congregation, his eyes had brightened to the fact that nearly a hundred of the youths were ripening to war age, but under all, lighting and animating his mind, raising daring to eagle heights, lay his passion for Katafa, his other self more dear to him than self, threatened, ever so vaguely, yet still threatened. War canoes! Did he intend fighting any invaders in the lagoon or as they drew towards shore, or did he vaguely intend to be the attacker, destroying the danger at its source before it could develop? Who knows? A hand fell upon his shoulder and turning, he found himself face to face with Katafa, a lock of her dark hair escaped from the thread of elastic vine that bound it, blew right back on the breeze like an eagle’s feather, and her eyes, luminous and dark instead of meeting his, were fixed towards the point where he had been gazing—the due-north sea line. “Look!” said Katafa. At big intervals and in certain conditions of weather Palm Tree, though far behind the sea line, became visible from Karolin through mirage. Last evening they had seen it and now again it was beginning to live, to bloom, to come to life, a mysterious stain low down in the southern sky, a dull spot in the sea dazzle, that deepened by degrees and hardened till as if sketched in by some unseen painter, the island showed beautiful as a dream, diaphanous, yet vivid. With her hand upon his shoulder they stood without speaking, their minds untutored, knowing nothing of mirage, their eyes fixed on the place from which they had escaped and which was rising now so strangely beyond the far sea line as if to gaze at them. They saw again the horde of savages on the beach, figures monstrous as the forms in a nightmare, they felt again the wind that filled the sail as the dinghy raced for safety and the open sea, and again they heard the yells of the Melanesians mad with rum stolen from the schooner they had brought in, and which they had burnt. And there, there before them lay the scene of the Tragedy, that lovely picture which showed nothing of the demons that still in habited it. Then as Dick gazed on this loveliness, which was yet a threat and a warning, his nostrils expanded and his eyes grew dark with hate. They had threatened him—that was nothing, they had threatened Katafa, that was everything—and they still threatened her. Some day they would come. The vision of Palm Tree seemed to repeat what instinct told him. They would build canoes and seeing the lagoon mirror-light in the sky, they would come. They had no women, those men, and here were women, and instinct half whispered to him that just as he had been drawn to Katafa, so would these men be drawn to the women of Karolin. They would scan the horizon in search of some island whose tribe might be raided of its women and seeing the lagoon light they would come. Ah, if he had known, danger lay not only to the north, but wherever greed or desire or hatred might roam on that azure sea, not only amongst savages, but the wolves of civilization. To Dick there was no world beyond the world of water that ringed the two islands; no Europe, no America, no history but the history of his short life as the life of Katafa, and yet even in that life, short as it was, he had learned to dread men and he had envisaged the foundation of all history—man’s instinct for war, rapine and destruction. Then gradually the vision of Palm Tree began to fade and pass, suddenly it vanished like a light blown out and as they turned from the sea to the lagoon, Katafa pointed across the lagoon water to a canoe approaching from the southern beach. It was the canoe Dick has sent for the canoe builders and, leaving the coral, they came down to the white sand of the inner beach to meet it.\n",
            "Metadata:\n",
            "{'generator_agent': 'spin',\n",
            " 'length': 2914,\n",
            " 'quality_tags': 'engaging,descriptive,informative,vivid,fantasy',\n",
            " 'score': 8,\n",
            " 'source': 'wikisource',\n",
            " 'timestamp': '2025-06-28T04:51:18.389406',\n",
            " 'version': 'spinned'}\n",
            "------------------------------------------------------------\n",
            "\n",
            "--- Item 6 ---\n",
            "ID:         v_20250628_045141\n",
            "Document:   \"The Gates of Morning\" CHAPTER I THE CANOE BUILDER D\n",
            "ICK standing on a ledge of coral cast his eyes to the South. Behind him the breakers of the outer sea thundered and the spindrift scattered on the wind; before him stretched an ocean calm as a lake, infinite, blue, and flown about by the fishing gulls—the lagoon of Karolin. Clipped by its forty-mile ring of coral this great pond was a sea in itself, a sea of storm in heavy winds, a lake of azure, in light airs—and it was his—he who had landed here only yesterday. Women, children, youths, all the tribe to be seen busy along the beach in the blazing sun, fishing with nets, playing their games or working on the paraka patches, all were his people. His were the canoes drawn up on the sand and his the empty houses where the war canoes had once rested on their rollers. Then as he cast his eyes from the lagoon to the canoe houses his brow contracted, and, turning his back to the lagoon he stood facing the breakers on the outer beach and the northern sea. Away there, beyond the sea line, invisible, lay Palm Tree, an island beautiful as a dream, yet swarming with devils. Little Tari the son of Le Taioi the net maker, sitting on the coral close by, looked up at him. Tari knew little of life, but he knew that all the men of Karolin swept away by war had left the women and the boys and the children like himself defenceless and without a man or leader. Then, yesterday, from the northern sea in a strange boat and with Katafa, the girl who had been blown to sea years ago when out fishing, this strange new figure had come, sent by the gods, so the women said, to be their chief and ruler. The child knew nothing of whom the gods might be nor did he care, alone now with this wonderful new person, and out of earshot of his mother, he put the question direct with all the simplicity of childhood. “Taori,” said little Tari, “who are you?” (é kamina tai) Could Dick have answered, would the child have understood the strange words of the strange story Dick might have told him? “Tari, I come of people beyond the world you know. My name is Dick Lestrange, and when I was smaller than you, Tari, I was left alone with an old sailor man on that island you call Marua (Palm Tree), which lies beyond sight fifty miles to the north. There we lived and there I grew to be a boy and Kearney, that was his name, taught me to fish and spear fish, and he made for me things to play with, little ships unlike the canoes of the islands. And then, Tari, one day long ago came Katafa, the girl who was blown away from here in a storm. She lived with us till Kearney died and then we two were alone. She taught me her language, which is the language of Karolin. She named me Taori; we loved one another and might have lived for ever at Marua had not a great ship come there filled with bad men, men from the eastern islands of Melanesia. They came to cut the trees. Then they rose and killed the white men with them and burned the ship and in our boat we escaped from them, taking with us everything we loved, even the little ships, and steering for Karolin, we came, led by the lagoon light in the sky.\" But he could not tell Tari this, or at least all of it, for the very name of Dick had passed from his memory, that and the language he had spoken as a child; Kearney, the sailor who had brought him up, was all but forgotten, all but lost sight of in the luminous haze that was his past. The past, for men long shipwrecked and alone, becomes blurred and fogged, for Dick it began only with the coming of Katafa to Marua, behind and beyond that all was forgotten as though consumed in the great blaze of tropic light that bathed the island and the sea, the storms that swept the coconut groves, the mists of the rainy seasons. Kearney would have been quite forgotten but for the little ships he had made as playthings for the boy—who was now a man. He looked down at the questioning child. “I am Taori, Tari tatu, why do you ask?” “I do not know,” said the child. “I ask as I breathe but no big folk—madyana—will ever answer the questions of Tari— Ai, the fish!” His facile mind had already dropped the subject, attracted by the cries of some children, hauling in a net, and he rose and trotted away. Dick turned his gaze again to the north. The question of the child had stirred his mind and he saw again the schooner that had put in to Palm Tree only to be burned by the Melanesian hands, he saw again Katafa and himself as they made their escape in the old dinghy that Kearney had taught him to handle as a boy. He saw their landing on this beach, yesterday, and the women and children swarming round him, he the man whom they considered sent by the gods to be their chief and leader. Then as he gazed towards the north the memory of the men from whom he had escaped with the girl stained the beauty of sea and sky. There was no immediate fear of the men who had taken possession of Palm Tree; the men of Palm Tree had no canoes, but they would build canoes—surely they would build canoes, and as surely they would see the far mirror blaze of Karolin lagoon in the sky, just as he had seen it, and they would come. It might be a very long time yet, but they would come. Dick was an all but blook, a kanaka, a savage, and yet the white man was there. He could think forward, he could think round a subject and he could imagine. That was why he had sent a canoe that morning across to the southern beach to fetch Aioma, Palia and Tafata, three old men, too old for war, but expert canoe-builders, that was why when gazing at the tribe in full congregation, his eyes had brightened to the fact that nearly a hundred of the youths were ripening to war age, but under all, lighting and animating his mind, raising daring to eagle heights, lay his passion for Katafa, his other self more dear to him than self, threatened, ever so vaguely, yet still threatened. War canoes! Did he intend fighting any invaders in the lagoon or as they drew towards shore, or did he vaguely intend to be the attacker, destroying the danger at its source before it could develop? Who knows? A hand fell upon his shoulder and turning, he found himself face to face with Katafa, a lock of her dark hair escaped from the thread of elastic vine that bound it, blew right back on the breeze like an eagle’s feather, and her eyes, luminous and dark instead of meeting his, were fixed towards the point where he had been gazing—the due-north sea line. “Look!” said Katafa. At big intervals and in certain conditions of weather Palm Tree, though far behind the sea line, became visible from Karolin through mirage. Last evening they had seen it and now again it was beginning to live, to bloom, to come to life, a mysterious stain low down in the southern sky, a dull spot in the sea dazzle, that deepened by degrees and hardened till as if sketched in by some unseen painter, the island showed beautiful as a dream, diaphanous, yet vivid. With her hand upon his shoulder they stood without speaking, their minds untutored, knowing nothing of mirage, their eyes fixed on the place from which they had escaped and which was rising now so strangely beyond the far sea line as if to gaze at them. They saw again the horde of savages on the beach, figures monstrous as the forms in a nightmare, they felt again the wind that filled the sail as the dinghy raced for safety and the open sea, and again they heard the yells of the Melanesians mad with rum stolen from the schooner they had brought in, and which they had burnt. And there, there before them lay the scene of the Tragedy, that lovely picture which showed nothing of the demons that still in habited it. Then as Dick gazed on this loveliness, which was yet a threat and a warning, his nostrils expanded and his eyes grew dark with hate. They had threatened him—that was nothing, they had threatened Katafa, that was everything—and they still threatened her. Some day they would come. The vision of Palm Tree seemed to repeat what instinct told him. They would build canoes and seeing the lagoon mirror-light in the sky, they would come. They had no women, those men, and here were women, and instinct half whispered to him that just as he had been drawn to Katafa, so would these men be drawn to the women of Karolin. They would scan the horizon in search of some island whose tribe might be raided of its women and seeing the lagoon light they would come. Ah, if he had known, danger lay not only to the north, but wherever greed or desire or hatred might roam on that azure sea, not only amongst savages, but the wolves of civilization. To Dick there was no world beyond the world of water that ringed the two islands; no Europe, no America, no history but the history of his short life as the life of Katafa, and yet even in that life, short as it was, he had learned to dread men and he had envisaged the foundation of all history—man’s instinct for war, rapine and destruction. Then gradually the vision of Palm Tree began to fade and pass, suddenly it vanished like a light blown out and as they turned from the sea to the lagoon, Katafa pointed across the lagoon water to a canoe approaching from the southern beach. It was the canoe Dick has sent for the canoe builders and, leaving the coral, they came down to the white sand of the inner beach to meet it.\n",
            "Metadata:\n",
            "{'generator_agent': 'editor',\n",
            " 'length': 2936,\n",
            " 'quality_tags': 'engaging,descriptive,informative,lyrical,adventurous',\n",
            " 'score': 8,\n",
            " 'source': 'wikisource',\n",
            " 'timestamp': '2025-06-28T04:51:41.827591',\n",
            " 'version': 'spinned_final'}\n",
            "------------------------------------------------------------\n"
          ]
        }
      ],
      "source": [
        "import chromadb\n",
        "from pprint import pprint\n",
        "\n",
        "\n",
        "results = collection.get(include=[\"documents\", \"metadatas\"])\n",
        "\n",
        "for i in range(len(results[\"ids\"])):\n",
        "    print(f\"\\nItem :{i+1}\")\n",
        "    print(f\"ID:{results['ids'][i]}\")\n",
        "    print(f\"Document:{results['documents'][i]}\")\n",
        "    print(f\"Metadata:\")\n",
        "    pprint(results['metadatas'][i])\n",
        "    print(\"-\" * 60)\n"
      ]
    },
    {
      "cell_type": "code",
      "execution_count": null,
      "metadata": {
        "colab": {
          "base_uri": "https://localhost:8080/"
        },
        "id": "lg3O_6vs13cf",
        "outputId": "03688c49-1d57-4a60-ab52-c1d3336e105e"
      },
      "outputs": [
        {
          "data": {
            "text/plain": [
              "[Collection(name=the_gates_of_morning)]"
            ]
          },
          "execution_count": 35,
          "metadata": {},
          "output_type": "execute_result"
        }
      ],
      "source": [
        "chroma_client.list_collections()\n"
      ]
    },
    {
      "cell_type": "code",
      "execution_count": null,
      "metadata": {
        "colab": {
          "base_uri": "https://localhost:8080/"
        },
        "id": "QiQxi0_i2BJj",
        "outputId": "035da10c-44fd-4efc-9f46-a6bfdfe38b8e"
      },
      "outputs": [
        {
          "name": "stdout",
          "output_type": "stream",
          "text": [
            "{'ids': ['v_20250628'], 'embeddings': None, 'documents': ['\"The Gates of Morning\" CHAPTER I THE CANOE BUILDER D\\nICK standing on a ledge of coral cast his eyes to the South. Behind him the breakers of the outer sea thundered and the spindrift scattered on the wind; before him stretched an ocean calm as a lake, infinite, blue, and flown about by the fishing gulls—the lagoon of Karolin. Clipped by its forty-mile ring of coral this great pond was a sea in itself, a sea of storm in heavy winds, a lake of azure, in light airs—and it was his—he who had landed here only yesterday. Women, children, youths, all the tribe to be seen busy along the beach in the blazing sun, fishing with nets, playing their games or working on the paraka patches, all were his people. His were the canoes drawn up on the sand and his the empty houses where the war canoes had once rested on their rollers. Then as he cast his eyes from the lagoon to the canoe houses his brow contracted, and, turning his back to the lagoon he stood facing the breakers on the outer beach and the northern sea. Away there, beyond the sea line, invisible, lay Palm Tree, an island beautiful as a dream, yet swarming with devils. Little Tari the son of Le Taioi the net maker, sitting on the coral close by, looked up at him. Tari knew little of life, but he knew that all the men of Karolin swept away by war had left the women and the boys and the children like himself defenceless and without a man or leader. Then, yesterday, from the northern sea in a strange boat and with Katafa, the girl who had been blown to sea years ago when out fishing, this strange new figure had come, sent by the gods, so the women said, to be their chief and ruler. The child knew nothing of whom the gods might be nor did he care, alone now with this wonderful new person, and out of earshot of his mother, he put the question direct with all the simplicity of childhood. “Taori,” said little Tari, “who are you?” (é kamina tai) Could Dick have answered, would the child have understood the strange words of the strange story Dick might have told him? “Tari, I come of people beyond the world you know. My name is Dick Lestrange, and when I was smaller than you, Tari, I was left alone with an old sailor man on that island you call Marua (Palm Tree), which lies beyond sight fifty miles to the north. There we lived and there I grew to be a boy and Kearney, that was his name, taught me to fish and spear fish, and he made for me things to play with, little ships unlike the canoes of the islands. And then, Tari, one day long ago came Katafa, the girl who was blown away from here in a storm. She lived with us till Kearney died and then we two were alone. She taught me her language, which is the language of Karolin. She named me Taori; we loved one another and might have lived for ever at Marua had not a great ship come there filled with bad men, men from the eastern islands of Melanesia. They came to cut the trees. Then they rose and killed the white men with them and burned the ship and in our boat we escaped from them, taking with us everything we loved, even the little ships, and steering for Karolin, we came, led by the lagoon light in the sky.\" But he could not tell Tari this, or at least all of it, for the very name of Dick had passed from his memory, that and the language he had spoken as a child; Kearney, the sailor who had brought him up, was all but forgotten, all but lost sight of in the luminous haze that was his past. The past, for men long shipwrecked and alone, becomes blurred and fogged, for Dick it began only with the coming of Katafa to Marua, behind and beyond that all was forgotten as though consumed in the great blaze of tropic light that bathed the island and the sea, the storms that swept the coconut groves, the mists of the rainy seasons. Kearney would have been quite forgotten but for the little ships he had made as playthings for the boy—who was now a man. He looked down at the questioning child. “I am Taori, Tari tatu, why do you ask?” “I do not know,” said the child. “I ask as I breathe but no big folk—madyana—will ever answer the questions of Tari— Ai, the fish!” His facile mind had already dropped the subject, attracted by the cries of some children, hauling in a net, and he rose and trotted away. Dick turned his gaze again to the north. The question of the child had stirred his mind and he saw again the schooner that had put in to Palm Tree only to be burned by the Melanesian hands, he saw again Katafa and himself as they made their escape in the old dinghy that Kearney had taught him to handle as a boy. He saw their landing on this beach, yesterday, and the women and children swarming round him, he the man whom they considered sent by the gods to be their chief and leader. Then as he gazed towards the north the memory of the men from whom he had escaped with the girl stained the beauty of sea and sky. There was no immediate fear of the men who had taken possession of Palm Tree; the men of Palm Tree had no canoes, but they would build canoes—surely they would build canoes, and as surely they would see the far mirror blaze of Karolin lagoon in the sky, just as he had seen it, and they would come. It might be a very long time yet, but they would come. Dick was an all but blook, a kanaka, a savage, and yet the white man was there. He could think forward, he could think round a subject and he could imagine. That was why he had sent a canoe that morning across to the southern beach to fetch Aioma, Palia and Tafata, three old men, too old for war, but expert canoe-builders, that was why when gazing at the tribe in full congregation, his eyes had brightened to the fact that nearly a hundred of the youths were ripening to war age, but under all, lighting and animating his mind, raising daring to eagle heights, lay his passion for Katafa, his other self more dear to him than self, threatened, ever so vaguely, yet still threatened. War canoes! Did he intend fighting any invaders in the lagoon or as they drew towards shore, or did he vaguely intend to be the attacker, destroying the danger at its source before it could develop? Who knows? A hand fell upon his shoulder and turning, he found himself face to face with Katafa, a lock of her dark hair escaped from the thread of elastic vine that bound it, blew right back on the breeze like an eagle’s feather, and her eyes, luminous and dark instead of meeting his, were fixed towards the point where he had been gazing—the due-north sea line. “Look!” said Katafa. At big intervals and in certain conditions of weather Palm Tree, though far behind the sea line, became visible from Karolin through mirage. Last evening they had seen it and now again it was beginning to live, to bloom, to come to life, a mysterious stain low down in the southern sky, a dull spot in the sea dazzle, that deepened by degrees and hardened till as if sketched in by some unseen painter, the island showed beautiful as a dream, diaphanous, yet vivid. With her hand upon his shoulder they stood without speaking, their minds untutored, knowing nothing of mirage, their eyes fixed on the place from which they had escaped and which was rising now so strangely beyond the far sea line as if to gaze at them. They saw again the horde of savages on the beach, figures monstrous as the forms in a nightmare, they felt again the wind that filled the sail as the dinghy raced for safety and the open sea, and again they heard the yells of the Melanesians mad with rum stolen from the schooner they had brought in, and which they had burnt. And there, there before them lay the scene of the Tragedy, that lovely picture which showed nothing of the demons that still in habited it. Then as Dick gazed on this loveliness, which was yet a threat and a warning, his nostrils expanded and his eyes grew dark with hate. They had threatened him—that was nothing, they had threatened Katafa, that was everything—and they still threatened her. Some day they would come. The vision of Palm Tree seemed to repeat what instinct told him. They would build canoes and seeing the lagoon mirror-light in the sky, they would come. They had no women, those men, and here were women, and instinct half whispered to him that just as he had been drawn to Katafa, so would these men be drawn to the women of Karolin. They would scan the horizon in search of some island whose tribe might be raided of its women and seeing the lagoon light they would come. Ah, if he had known, danger lay not only to the north, but wherever greed or desire or hatred might roam on that azure sea, not only amongst savages, but the wolves of civilization. To Dick there was no world beyond the world of water that ringed the two islands; no Europe, no America, no history but the history of his short life as the life of Katafa, and yet even in that life, short as it was, he had learned to dread men and he had envisaged the foundation of all history—man’s instinct for war, rapine and destruction. Then gradually the vision of Palm Tree began to fade and pass, suddenly it vanished like a light blown out and as they turned from the sea to the lagoon, Katafa pointed across the lagoon water to a canoe approaching from the southern beach. It was the canoe Dick has sent for the canoe builders and, leaving the coral, they came down to the white sand of the inner beach to meet it.'], 'uris': None, 'included': ['metadatas', 'documents'], 'data': None, 'metadatas': [{'length': 3903, 'score': 8, 'quality_tags': 'engaging,descriptive,informative,dramatic', 'timestamp': '2025-06-28T04:37:51.453217', 'source': 'wikisource', 'version': 'spinned', 'generator_agent': 'spin'}]}\n"
          ]
        }
      ],
      "source": [
        "print(collection.get())"
      ]
    },
    {
      "cell_type": "code",
      "execution_count": null,
      "metadata": {
        "colab": {
          "base_uri": "https://localhost:8080/"
        },
        "id": "G9nEqAVWzijX",
        "outputId": "9bc91dc8-f1db-484a-85fc-838c1fabf684"
      },
      "outputs": [
        {
          "name": "stderr",
          "output_type": "stream",
          "text": [
            "ERROR:chromadb.telemetry.product.posthog:Failed to send telemetry event CollectionDeleteEvent: capture() takes 1 positional argument but 3 were given\n"
          ]
        }
      ],
      "source": [
        "#delete datat\n",
        "collection.delete(ids=[\"v_20250628\"])\n"
      ]
    },
    {
      "cell_type": "code",
      "execution_count": null,
      "metadata": {
        "id": "H-n4F1gF0kFU"
      },
      "outputs": [],
      "source": [
        "#delete collection\n",
        "chroma_client.delete_collection(name=\"spinned-books\")"
      ]
    }
  ],
  "metadata": {
    "colab": {
      "provenance": []
    },
    "kernelspec": {
      "display_name": "Python 3",
      "name": "python3"
    },
    "language_info": {
      "name": "python"
    }
  },
  "nbformat": 4,
  "nbformat_minor": 0
}
